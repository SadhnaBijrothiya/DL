{
  "nbformat": 4,
  "nbformat_minor": 0,
  "metadata": {
    "accelerator": "GPU",
    "colab": {
      "name": "Copy of Copy of 1D-CNN,GRU[HAR].ipynb",
      "provenance": [],
      "collapsed_sections": [],
      "include_colab_link": true
    },
    "kernelspec": {
      "display_name": "Python 3",
      "name": "python3"
    },
    "language_info": {
      "name": "python"
    }
  },
  "cells": [
    {
      "cell_type": "markdown",
      "metadata": {
        "id": "view-in-github",
        "colab_type": "text"
      },
      "source": [
        "<a href=\"https://colab.research.google.com/github/SadhnaBijrothiya/DL/blob/main/Copy_of_Copy_of_1D_CNN%2CGRU%5BHAR%5D.ipynb\" target=\"_parent\"><img src=\"https://colab.research.google.com/assets/colab-badge.svg\" alt=\"Open In Colab\"/></a>"
      ]
    },
    {
      "cell_type": "code",
      "metadata": {
        "colab": {
          "base_uri": "https://localhost:8080/"
        },
        "id": "kwgFLQPL-ZJR",
        "outputId": "821c0ff4-5ff6-46d9-accd-3dc43ddbe872"
      },
      "source": [
        "pip install keras-tuner --upgrade"
      ],
      "execution_count": null,
      "outputs": [
        {
          "output_type": "stream",
          "name": "stdout",
          "text": [
            "Collecting keras-tuner\n",
            "  Downloading keras_tuner-1.1.0-py3-none-any.whl (98 kB)\n",
            "\u001b[?25l\r\u001b[K     |███▍                            | 10 kB 27.8 MB/s eta 0:00:01\r\u001b[K     |██████▊                         | 20 kB 29.5 MB/s eta 0:00:01\r\u001b[K     |██████████                      | 30 kB 13.0 MB/s eta 0:00:01\r\u001b[K     |█████████████▍                  | 40 kB 9.8 MB/s eta 0:00:01\r\u001b[K     |████████████████▊               | 51 kB 5.5 MB/s eta 0:00:01\r\u001b[K     |████████████████████            | 61 kB 6.1 MB/s eta 0:00:01\r\u001b[K     |███████████████████████▍        | 71 kB 5.8 MB/s eta 0:00:01\r\u001b[K     |██████████████████████████▊     | 81 kB 6.5 MB/s eta 0:00:01\r\u001b[K     |██████████████████████████████  | 92 kB 5.0 MB/s eta 0:00:01\r\u001b[K     |████████████████████████████████| 98 kB 2.9 MB/s \n",
            "\u001b[?25hCollecting kt-legacy\n",
            "  Downloading kt_legacy-1.0.4-py3-none-any.whl (9.6 kB)\n",
            "Requirement already satisfied: requests in /usr/local/lib/python3.7/dist-packages (from keras-tuner) (2.23.0)\n",
            "Requirement already satisfied: scipy in /usr/local/lib/python3.7/dist-packages (from keras-tuner) (1.4.1)\n",
            "Requirement already satisfied: tensorboard in /usr/local/lib/python3.7/dist-packages (from keras-tuner) (2.7.0)\n",
            "Requirement already satisfied: packaging in /usr/local/lib/python3.7/dist-packages (from keras-tuner) (21.2)\n",
            "Requirement already satisfied: numpy in /usr/local/lib/python3.7/dist-packages (from keras-tuner) (1.19.5)\n",
            "Requirement already satisfied: ipython in /usr/local/lib/python3.7/dist-packages (from keras-tuner) (5.5.0)\n",
            "Requirement already satisfied: setuptools>=18.5 in /usr/local/lib/python3.7/dist-packages (from ipython->keras-tuner) (57.4.0)\n",
            "Requirement already satisfied: pygments in /usr/local/lib/python3.7/dist-packages (from ipython->keras-tuner) (2.6.1)\n",
            "Requirement already satisfied: prompt-toolkit<2.0.0,>=1.0.4 in /usr/local/lib/python3.7/dist-packages (from ipython->keras-tuner) (1.0.18)\n",
            "Requirement already satisfied: decorator in /usr/local/lib/python3.7/dist-packages (from ipython->keras-tuner) (4.4.2)\n",
            "Requirement already satisfied: pexpect in /usr/local/lib/python3.7/dist-packages (from ipython->keras-tuner) (4.8.0)\n",
            "Requirement already satisfied: traitlets>=4.2 in /usr/local/lib/python3.7/dist-packages (from ipython->keras-tuner) (5.1.1)\n",
            "Requirement already satisfied: pickleshare in /usr/local/lib/python3.7/dist-packages (from ipython->keras-tuner) (0.7.5)\n",
            "Requirement already satisfied: simplegeneric>0.8 in /usr/local/lib/python3.7/dist-packages (from ipython->keras-tuner) (0.8.1)\n",
            "Requirement already satisfied: wcwidth in /usr/local/lib/python3.7/dist-packages (from prompt-toolkit<2.0.0,>=1.0.4->ipython->keras-tuner) (0.2.5)\n",
            "Requirement already satisfied: six>=1.9.0 in /usr/local/lib/python3.7/dist-packages (from prompt-toolkit<2.0.0,>=1.0.4->ipython->keras-tuner) (1.15.0)\n",
            "Requirement already satisfied: pyparsing<3,>=2.0.2 in /usr/local/lib/python3.7/dist-packages (from packaging->keras-tuner) (2.4.7)\n",
            "Requirement already satisfied: ptyprocess>=0.5 in /usr/local/lib/python3.7/dist-packages (from pexpect->ipython->keras-tuner) (0.7.0)\n",
            "Requirement already satisfied: chardet<4,>=3.0.2 in /usr/local/lib/python3.7/dist-packages (from requests->keras-tuner) (3.0.4)\n",
            "Requirement already satisfied: urllib3!=1.25.0,!=1.25.1,<1.26,>=1.21.1 in /usr/local/lib/python3.7/dist-packages (from requests->keras-tuner) (1.24.3)\n",
            "Requirement already satisfied: idna<3,>=2.5 in /usr/local/lib/python3.7/dist-packages (from requests->keras-tuner) (2.10)\n",
            "Requirement already satisfied: certifi>=2017.4.17 in /usr/local/lib/python3.7/dist-packages (from requests->keras-tuner) (2021.10.8)\n",
            "Requirement already satisfied: tensorboard-plugin-wit>=1.6.0 in /usr/local/lib/python3.7/dist-packages (from tensorboard->keras-tuner) (1.8.0)\n",
            "Requirement already satisfied: protobuf>=3.6.0 in /usr/local/lib/python3.7/dist-packages (from tensorboard->keras-tuner) (3.17.3)\n",
            "Requirement already satisfied: werkzeug>=0.11.15 in /usr/local/lib/python3.7/dist-packages (from tensorboard->keras-tuner) (1.0.1)\n",
            "Requirement already satisfied: tensorboard-data-server<0.7.0,>=0.6.0 in /usr/local/lib/python3.7/dist-packages (from tensorboard->keras-tuner) (0.6.1)\n",
            "Requirement already satisfied: google-auth-oauthlib<0.5,>=0.4.1 in /usr/local/lib/python3.7/dist-packages (from tensorboard->keras-tuner) (0.4.6)\n",
            "Requirement already satisfied: google-auth<3,>=1.6.3 in /usr/local/lib/python3.7/dist-packages (from tensorboard->keras-tuner) (1.35.0)\n",
            "Requirement already satisfied: markdown>=2.6.8 in /usr/local/lib/python3.7/dist-packages (from tensorboard->keras-tuner) (3.3.4)\n",
            "Requirement already satisfied: absl-py>=0.4 in /usr/local/lib/python3.7/dist-packages (from tensorboard->keras-tuner) (0.12.0)\n",
            "Requirement already satisfied: grpcio>=1.24.3 in /usr/local/lib/python3.7/dist-packages (from tensorboard->keras-tuner) (1.41.1)\n",
            "Requirement already satisfied: wheel>=0.26 in /usr/local/lib/python3.7/dist-packages (from tensorboard->keras-tuner) (0.37.0)\n",
            "Requirement already satisfied: pyasn1-modules>=0.2.1 in /usr/local/lib/python3.7/dist-packages (from google-auth<3,>=1.6.3->tensorboard->keras-tuner) (0.2.8)\n",
            "Requirement already satisfied: cachetools<5.0,>=2.0.0 in /usr/local/lib/python3.7/dist-packages (from google-auth<3,>=1.6.3->tensorboard->keras-tuner) (4.2.4)\n",
            "Requirement already satisfied: rsa<5,>=3.1.4 in /usr/local/lib/python3.7/dist-packages (from google-auth<3,>=1.6.3->tensorboard->keras-tuner) (4.7.2)\n",
            "Requirement already satisfied: requests-oauthlib>=0.7.0 in /usr/local/lib/python3.7/dist-packages (from google-auth-oauthlib<0.5,>=0.4.1->tensorboard->keras-tuner) (1.3.0)\n",
            "Requirement already satisfied: importlib-metadata in /usr/local/lib/python3.7/dist-packages (from markdown>=2.6.8->tensorboard->keras-tuner) (4.8.1)\n",
            "Requirement already satisfied: pyasn1<0.5.0,>=0.4.6 in /usr/local/lib/python3.7/dist-packages (from pyasn1-modules>=0.2.1->google-auth<3,>=1.6.3->tensorboard->keras-tuner) (0.4.8)\n",
            "Requirement already satisfied: oauthlib>=3.0.0 in /usr/local/lib/python3.7/dist-packages (from requests-oauthlib>=0.7.0->google-auth-oauthlib<0.5,>=0.4.1->tensorboard->keras-tuner) (3.1.1)\n",
            "Requirement already satisfied: typing-extensions>=3.6.4 in /usr/local/lib/python3.7/dist-packages (from importlib-metadata->markdown>=2.6.8->tensorboard->keras-tuner) (3.10.0.2)\n",
            "Requirement already satisfied: zipp>=0.5 in /usr/local/lib/python3.7/dist-packages (from importlib-metadata->markdown>=2.6.8->tensorboard->keras-tuner) (3.6.0)\n",
            "Installing collected packages: kt-legacy, keras-tuner\n",
            "Successfully installed keras-tuner-1.1.0 kt-legacy-1.0.4\n"
          ]
        }
      ]
    },
    {
      "cell_type": "code",
      "metadata": {
        "id": "51JMnxQWlQWT"
      },
      "source": [
        "import pandas as pd\n",
        "import numpy as np\n",
        "import matplotlib.pyplot as plt\n",
        "import seaborn as sns\n",
        "from scipy import stats\n",
        "from sklearn import metrics\n",
        "from sklearn.model_selection import train_test_split\n",
        "from keras.models import Sequential, Model\n",
        "from keras.layers import Dense\n",
        "from keras.layers import Flatten\n",
        "from keras.layers import Dropout\n",
        "import keras_tuner as kt\n",
        "from keras.callbacks import ModelCheckpoint\n",
        "from keras.layers.convolutional import Conv1D\n",
        "from keras.layers.convolutional import MaxPooling1D\n",
        "RANDOM_SEED=42"
      ],
      "execution_count": null,
      "outputs": []
    },
    {
      "cell_type": "code",
      "metadata": {
        "id": "zfIket4o_D4e"
      },
      "source": [
        "#Importing libraries\n",
        "import sys \n",
        "import numpy\n",
        "import xlrd #excel read\n",
        "import pandas as pd\n",
        "import os\n",
        "import matplotlib.pyplot as plt\n",
        "import io\n",
        "import math\n",
        "from sklearn import preprocessing\n",
        "from sklearn.preprocessing import MinMaxScaler, StandardScaler\n",
        "from sklearn.ensemble import AdaBoostRegressor, RandomForestRegressor\n",
        "from scipy.signal import savgol_filter\n",
        "from scipy import signal\n",
        "from scipy.spatial import distance\n",
        "from sklearn.model_selection import train_test_split\n",
        " \n",
        "from tensorflow import keras, convert_to_tensor, float32, make_ndarray\n",
        "from tensorflow.compat.v1 import Session\n",
        "from tensorflow.keras import layers, backend\n",
        "from tensorflow.keras.utils import plot_model\n",
        "from tensorflow.keras.models import Sequential, Model\n",
        "from tensorflow.keras.layers import Dense, Flatten, Input, GlobalAveragePooling1D, Dropout\n",
        "from tensorflow.keras.layers import LSTM, GRU, Conv1D, MaxPooling1D, MaxPool1D, TimeDistributed, RepeatVector, Conv2D\n",
        "from keras.layers.merge import concatenate\n",
        "from tensorflow.keras.wrappers.scikit_learn import KerasRegressor\n",
        "import random\n",
        "from sklearn.metrics import mean_absolute_error"
      ],
      "execution_count": null,
      "outputs": []
    },
    {
      "cell_type": "code",
      "metadata": {
        "id": "H3XA7QBolWFs"
      },
      "source": [
        "COLUMN_NAMES = [ 'user','activity','timestamp','x-axis','y-axis','z-axis']\n",
        "LABELS = ['Downstairs','Jogging','Sitting','Standing','Upstairs','Walking']"
      ],
      "execution_count": null,
      "outputs": []
    },
    {
      "cell_type": "code",
      "metadata": {
        "colab": {
          "base_uri": "https://localhost:8080/"
        },
        "id": "7h4JhBWgmEDd",
        "outputId": "53c02d86-c3ca-41b3-cad1-5454b6f1df19"
      },
      "source": [
        "from google.colab import drive\n",
        "drive.mount('/content/MyDrive')"
      ],
      "execution_count": null,
      "outputs": [
        {
          "output_type": "stream",
          "name": "stdout",
          "text": [
            "Mounted at /content/MyDrive\n"
          ]
        }
      ]
    },
    {
      "cell_type": "code",
      "metadata": {
        "id": "2j-oqhJXmgnT",
        "colab": {
          "base_uri": "https://localhost:8080/",
          "height": 387
        },
        "outputId": "94d75559-6775-4f03-e1ad-e8c48e98f432"
      },
      "source": [
        "data=pd.read_csv('/content/MyDrive/MyDrive/WISDM_ar_v1.1_raw1.txt', header = None, names = COLUMN_NAMES)\n",
        "data = data.dropna()"
      ],
      "execution_count": null,
      "outputs": [
        {
          "output_type": "error",
          "ename": "FileNotFoundError",
          "evalue": "ignored",
          "traceback": [
            "\u001b[0;31m---------------------------------------------------------------------------\u001b[0m",
            "\u001b[0;31mFileNotFoundError\u001b[0m                         Traceback (most recent call last)",
            "\u001b[0;32m<ipython-input-12-8b213c59f948>\u001b[0m in \u001b[0;36m<module>\u001b[0;34m()\u001b[0m\n\u001b[0;32m----> 1\u001b[0;31m \u001b[0mdata\u001b[0m\u001b[0;34m=\u001b[0m\u001b[0mpd\u001b[0m\u001b[0;34m.\u001b[0m\u001b[0mread_csv\u001b[0m\u001b[0;34m(\u001b[0m\u001b[0;34m'/content/MyDrive/MyDrive/WISDM_ar_v1.1_raw1.txt'\u001b[0m\u001b[0;34m,\u001b[0m \u001b[0mheader\u001b[0m \u001b[0;34m=\u001b[0m \u001b[0;32mNone\u001b[0m\u001b[0;34m,\u001b[0m \u001b[0mnames\u001b[0m \u001b[0;34m=\u001b[0m \u001b[0mCOLUMN_NAMES\u001b[0m\u001b[0;34m)\u001b[0m\u001b[0;34m\u001b[0m\u001b[0;34m\u001b[0m\u001b[0m\n\u001b[0m\u001b[1;32m      2\u001b[0m \u001b[0mdata\u001b[0m \u001b[0;34m=\u001b[0m \u001b[0mdata\u001b[0m\u001b[0;34m.\u001b[0m\u001b[0mdropna\u001b[0m\u001b[0;34m(\u001b[0m\u001b[0;34m)\u001b[0m\u001b[0;34m\u001b[0m\u001b[0;34m\u001b[0m\u001b[0m\n",
            "\u001b[0;32m/usr/local/lib/python3.7/dist-packages/pandas/io/parsers.py\u001b[0m in \u001b[0;36mread_csv\u001b[0;34m(filepath_or_buffer, sep, delimiter, header, names, index_col, usecols, squeeze, prefix, mangle_dupe_cols, dtype, engine, converters, true_values, false_values, skipinitialspace, skiprows, skipfooter, nrows, na_values, keep_default_na, na_filter, verbose, skip_blank_lines, parse_dates, infer_datetime_format, keep_date_col, date_parser, dayfirst, cache_dates, iterator, chunksize, compression, thousands, decimal, lineterminator, quotechar, quoting, doublequote, escapechar, comment, encoding, dialect, error_bad_lines, warn_bad_lines, delim_whitespace, low_memory, memory_map, float_precision)\u001b[0m\n\u001b[1;32m    686\u001b[0m     )\n\u001b[1;32m    687\u001b[0m \u001b[0;34m\u001b[0m\u001b[0m\n\u001b[0;32m--> 688\u001b[0;31m     \u001b[0;32mreturn\u001b[0m \u001b[0m_read\u001b[0m\u001b[0;34m(\u001b[0m\u001b[0mfilepath_or_buffer\u001b[0m\u001b[0;34m,\u001b[0m \u001b[0mkwds\u001b[0m\u001b[0;34m)\u001b[0m\u001b[0;34m\u001b[0m\u001b[0;34m\u001b[0m\u001b[0m\n\u001b[0m\u001b[1;32m    689\u001b[0m \u001b[0;34m\u001b[0m\u001b[0m\n\u001b[1;32m    690\u001b[0m \u001b[0;34m\u001b[0m\u001b[0m\n",
            "\u001b[0;32m/usr/local/lib/python3.7/dist-packages/pandas/io/parsers.py\u001b[0m in \u001b[0;36m_read\u001b[0;34m(filepath_or_buffer, kwds)\u001b[0m\n\u001b[1;32m    452\u001b[0m \u001b[0;34m\u001b[0m\u001b[0m\n\u001b[1;32m    453\u001b[0m     \u001b[0;31m# Create the parser.\u001b[0m\u001b[0;34m\u001b[0m\u001b[0;34m\u001b[0m\u001b[0;34m\u001b[0m\u001b[0m\n\u001b[0;32m--> 454\u001b[0;31m     \u001b[0mparser\u001b[0m \u001b[0;34m=\u001b[0m \u001b[0mTextFileReader\u001b[0m\u001b[0;34m(\u001b[0m\u001b[0mfp_or_buf\u001b[0m\u001b[0;34m,\u001b[0m \u001b[0;34m**\u001b[0m\u001b[0mkwds\u001b[0m\u001b[0;34m)\u001b[0m\u001b[0;34m\u001b[0m\u001b[0;34m\u001b[0m\u001b[0m\n\u001b[0m\u001b[1;32m    455\u001b[0m \u001b[0;34m\u001b[0m\u001b[0m\n\u001b[1;32m    456\u001b[0m     \u001b[0;32mif\u001b[0m \u001b[0mchunksize\u001b[0m \u001b[0;32mor\u001b[0m \u001b[0miterator\u001b[0m\u001b[0;34m:\u001b[0m\u001b[0;34m\u001b[0m\u001b[0;34m\u001b[0m\u001b[0m\n",
            "\u001b[0;32m/usr/local/lib/python3.7/dist-packages/pandas/io/parsers.py\u001b[0m in \u001b[0;36m__init__\u001b[0;34m(self, f, engine, **kwds)\u001b[0m\n\u001b[1;32m    946\u001b[0m             \u001b[0mself\u001b[0m\u001b[0;34m.\u001b[0m\u001b[0moptions\u001b[0m\u001b[0;34m[\u001b[0m\u001b[0;34m\"has_index_names\"\u001b[0m\u001b[0;34m]\u001b[0m \u001b[0;34m=\u001b[0m \u001b[0mkwds\u001b[0m\u001b[0;34m[\u001b[0m\u001b[0;34m\"has_index_names\"\u001b[0m\u001b[0;34m]\u001b[0m\u001b[0;34m\u001b[0m\u001b[0;34m\u001b[0m\u001b[0m\n\u001b[1;32m    947\u001b[0m \u001b[0;34m\u001b[0m\u001b[0m\n\u001b[0;32m--> 948\u001b[0;31m         \u001b[0mself\u001b[0m\u001b[0;34m.\u001b[0m\u001b[0m_make_engine\u001b[0m\u001b[0;34m(\u001b[0m\u001b[0mself\u001b[0m\u001b[0;34m.\u001b[0m\u001b[0mengine\u001b[0m\u001b[0;34m)\u001b[0m\u001b[0;34m\u001b[0m\u001b[0;34m\u001b[0m\u001b[0m\n\u001b[0m\u001b[1;32m    949\u001b[0m \u001b[0;34m\u001b[0m\u001b[0m\n\u001b[1;32m    950\u001b[0m     \u001b[0;32mdef\u001b[0m \u001b[0mclose\u001b[0m\u001b[0;34m(\u001b[0m\u001b[0mself\u001b[0m\u001b[0;34m)\u001b[0m\u001b[0;34m:\u001b[0m\u001b[0;34m\u001b[0m\u001b[0;34m\u001b[0m\u001b[0m\n",
            "\u001b[0;32m/usr/local/lib/python3.7/dist-packages/pandas/io/parsers.py\u001b[0m in \u001b[0;36m_make_engine\u001b[0;34m(self, engine)\u001b[0m\n\u001b[1;32m   1178\u001b[0m     \u001b[0;32mdef\u001b[0m \u001b[0m_make_engine\u001b[0m\u001b[0;34m(\u001b[0m\u001b[0mself\u001b[0m\u001b[0;34m,\u001b[0m \u001b[0mengine\u001b[0m\u001b[0;34m=\u001b[0m\u001b[0;34m\"c\"\u001b[0m\u001b[0;34m)\u001b[0m\u001b[0;34m:\u001b[0m\u001b[0;34m\u001b[0m\u001b[0;34m\u001b[0m\u001b[0m\n\u001b[1;32m   1179\u001b[0m         \u001b[0;32mif\u001b[0m \u001b[0mengine\u001b[0m \u001b[0;34m==\u001b[0m \u001b[0;34m\"c\"\u001b[0m\u001b[0;34m:\u001b[0m\u001b[0;34m\u001b[0m\u001b[0;34m\u001b[0m\u001b[0m\n\u001b[0;32m-> 1180\u001b[0;31m             \u001b[0mself\u001b[0m\u001b[0;34m.\u001b[0m\u001b[0m_engine\u001b[0m \u001b[0;34m=\u001b[0m \u001b[0mCParserWrapper\u001b[0m\u001b[0;34m(\u001b[0m\u001b[0mself\u001b[0m\u001b[0;34m.\u001b[0m\u001b[0mf\u001b[0m\u001b[0;34m,\u001b[0m \u001b[0;34m**\u001b[0m\u001b[0mself\u001b[0m\u001b[0;34m.\u001b[0m\u001b[0moptions\u001b[0m\u001b[0;34m)\u001b[0m\u001b[0;34m\u001b[0m\u001b[0;34m\u001b[0m\u001b[0m\n\u001b[0m\u001b[1;32m   1181\u001b[0m         \u001b[0;32melse\u001b[0m\u001b[0;34m:\u001b[0m\u001b[0;34m\u001b[0m\u001b[0;34m\u001b[0m\u001b[0m\n\u001b[1;32m   1182\u001b[0m             \u001b[0;32mif\u001b[0m \u001b[0mengine\u001b[0m \u001b[0;34m==\u001b[0m \u001b[0;34m\"python\"\u001b[0m\u001b[0;34m:\u001b[0m\u001b[0;34m\u001b[0m\u001b[0;34m\u001b[0m\u001b[0m\n",
            "\u001b[0;32m/usr/local/lib/python3.7/dist-packages/pandas/io/parsers.py\u001b[0m in \u001b[0;36m__init__\u001b[0;34m(self, src, **kwds)\u001b[0m\n\u001b[1;32m   2008\u001b[0m         \u001b[0mkwds\u001b[0m\u001b[0;34m[\u001b[0m\u001b[0;34m\"usecols\"\u001b[0m\u001b[0;34m]\u001b[0m \u001b[0;34m=\u001b[0m \u001b[0mself\u001b[0m\u001b[0;34m.\u001b[0m\u001b[0musecols\u001b[0m\u001b[0;34m\u001b[0m\u001b[0;34m\u001b[0m\u001b[0m\n\u001b[1;32m   2009\u001b[0m \u001b[0;34m\u001b[0m\u001b[0m\n\u001b[0;32m-> 2010\u001b[0;31m         \u001b[0mself\u001b[0m\u001b[0;34m.\u001b[0m\u001b[0m_reader\u001b[0m \u001b[0;34m=\u001b[0m \u001b[0mparsers\u001b[0m\u001b[0;34m.\u001b[0m\u001b[0mTextReader\u001b[0m\u001b[0;34m(\u001b[0m\u001b[0msrc\u001b[0m\u001b[0;34m,\u001b[0m \u001b[0;34m**\u001b[0m\u001b[0mkwds\u001b[0m\u001b[0;34m)\u001b[0m\u001b[0;34m\u001b[0m\u001b[0;34m\u001b[0m\u001b[0m\n\u001b[0m\u001b[1;32m   2011\u001b[0m         \u001b[0mself\u001b[0m\u001b[0;34m.\u001b[0m\u001b[0munnamed_cols\u001b[0m \u001b[0;34m=\u001b[0m \u001b[0mself\u001b[0m\u001b[0;34m.\u001b[0m\u001b[0m_reader\u001b[0m\u001b[0;34m.\u001b[0m\u001b[0munnamed_cols\u001b[0m\u001b[0;34m\u001b[0m\u001b[0;34m\u001b[0m\u001b[0m\n\u001b[1;32m   2012\u001b[0m \u001b[0;34m\u001b[0m\u001b[0m\n",
            "\u001b[0;32mpandas/_libs/parsers.pyx\u001b[0m in \u001b[0;36mpandas._libs.parsers.TextReader.__cinit__\u001b[0;34m()\u001b[0m\n",
            "\u001b[0;32mpandas/_libs/parsers.pyx\u001b[0m in \u001b[0;36mpandas._libs.parsers.TextReader._setup_parser_source\u001b[0;34m()\u001b[0m\n",
            "\u001b[0;31mFileNotFoundError\u001b[0m: [Errno 2] No such file or directory: '/content/MyDrive/MyDrive/WISDM_ar_v1.1_raw1.txt'"
          ]
        }
      ]
    },
    {
      "cell_type": "code",
      "metadata": {
        "colab": {
          "base_uri": "https://localhost:8080/",
          "height": 162
        },
        "id": "8oY12DBCwwbJ",
        "outputId": "9dbf6476-a222-42d1-d49a-451c677f3f67"
      },
      "source": [
        "data['activity'].value_counts()"
      ],
      "execution_count": null,
      "outputs": [
        {
          "output_type": "error",
          "ename": "NameError",
          "evalue": "ignored",
          "traceback": [
            "\u001b[0;31m---------------------------------------------------------------------------\u001b[0m",
            "\u001b[0;31mNameError\u001b[0m                                 Traceback (most recent call last)",
            "\u001b[0;32m<ipython-input-9-dfff23416ca4>\u001b[0m in \u001b[0;36m<module>\u001b[0;34m()\u001b[0m\n\u001b[0;32m----> 1\u001b[0;31m \u001b[0mdata\u001b[0m\u001b[0;34m[\u001b[0m\u001b[0;34m'activity'\u001b[0m\u001b[0;34m]\u001b[0m\u001b[0;34m.\u001b[0m\u001b[0mvalue_counts\u001b[0m\u001b[0;34m(\u001b[0m\u001b[0;34m)\u001b[0m\u001b[0;34m\u001b[0m\u001b[0;34m\u001b[0m\u001b[0m\n\u001b[0m",
            "\u001b[0;31mNameError\u001b[0m: name 'data' is not defined"
          ]
        }
      ]
    },
    {
      "cell_type": "code",
      "metadata": {
        "colab": {
          "base_uri": "https://localhost:8080/",
          "height": 178
        },
        "id": "0CzgOFMEhKYD",
        "outputId": "aa41ee45-c518-4d48-9f89-bfe53be01473"
      },
      "source": [
        "data.head()\n",
        "print('Total rows : ', len(data))"
      ],
      "execution_count": null,
      "outputs": [
        {
          "output_type": "error",
          "ename": "NameError",
          "evalue": "ignored",
          "traceback": [
            "\u001b[0;31m---------------------------------------------------------------------------\u001b[0m",
            "\u001b[0;31mNameError\u001b[0m                                 Traceback (most recent call last)",
            "\u001b[0;32m<ipython-input-10-972e97cba9bb>\u001b[0m in \u001b[0;36m<module>\u001b[0;34m()\u001b[0m\n\u001b[0;32m----> 1\u001b[0;31m \u001b[0mdata\u001b[0m\u001b[0;34m.\u001b[0m\u001b[0mhead\u001b[0m\u001b[0;34m(\u001b[0m\u001b[0;34m)\u001b[0m\u001b[0;34m\u001b[0m\u001b[0;34m\u001b[0m\u001b[0m\n\u001b[0m\u001b[1;32m      2\u001b[0m \u001b[0mprint\u001b[0m\u001b[0;34m(\u001b[0m\u001b[0;34m'Total rows : '\u001b[0m\u001b[0;34m,\u001b[0m \u001b[0mlen\u001b[0m\u001b[0;34m(\u001b[0m\u001b[0mdata\u001b[0m\u001b[0;34m)\u001b[0m\u001b[0;34m)\u001b[0m\u001b[0;34m\u001b[0m\u001b[0;34m\u001b[0m\u001b[0m\n",
            "\u001b[0;31mNameError\u001b[0m: name 'data' is not defined"
          ]
        }
      ]
    },
    {
      "cell_type": "code",
      "metadata": {
        "colab": {
          "base_uri": "https://localhost:8080/"
        },
        "id": "b2TXiD-bnaXY",
        "outputId": "d022e85d-7212-4dee-91b6-a5b59b8a865b"
      },
      "source": [
        "data.shape"
      ],
      "execution_count": null,
      "outputs": [
        {
          "data": {
            "text/plain": [
              "(1098203, 6)"
            ]
          },
          "execution_count": 9,
          "metadata": {},
          "output_type": "execute_result"
        }
      ]
    },
    {
      "cell_type": "code",
      "metadata": {
        "colab": {
          "base_uri": "https://localhost:8080/",
          "height": 69
        },
        "id": "J3jLIgDrUHMi",
        "outputId": "7af24a6b-e1b8-492b-f96e-71f4cb712150"
      },
      "source": [
        "\"\"\"file = open('/content/MyDrive/MyDrive/WISDM_ar_v1.1_raw1.txt')\n",
        "lines = file.readlines()\n",
        "\n",
        "processedList = []\n",
        "\n",
        "for i, line in enumerate(lines):\n",
        "    try:\n",
        "        line = line.split(',')\n",
        "        last = line[5].split(';')[0]\n",
        "        last = last.strip()\n",
        "        if last == '':\n",
        "            break;\n",
        "        temp = [line[0], line[1], line[2], line[3], line[4], last]\n",
        "        processedList.append(temp)\n",
        "    except:\n",
        "        print('Error at line number: ', i)\"\"\""
      ],
      "execution_count": null,
      "outputs": [
        {
          "data": {
            "application/vnd.google.colaboratory.intrinsic+json": {
              "type": "string"
            },
            "text/plain": [
              "\"file = open('/content/MyDrive/MyDrive/WISDM_ar_v1.1_raw1.txt')\\nlines = file.readlines()\\n\\nprocessedList = []\\n\\nfor i, line in enumerate(lines):\\n    try:\\n        line = line.split(',')\\n        last = line[5].split(';')[0]\\n        last = last.strip()\\n        if last == '':\\n            break;\\n        temp = [line[0], line[1], line[2], line[3], line[4], last]\\n        processedList.append(temp)\\n    except:\\n        print('Error at line number: ', i)\""
            ]
          },
          "execution_count": 10,
          "metadata": {},
          "output_type": "execute_result"
        }
      ]
    },
    {
      "cell_type": "code",
      "metadata": {
        "colab": {
          "base_uri": "https://localhost:8080/",
          "height": 327
        },
        "id": "XyeAmo-gVtCI",
        "outputId": "2fda809c-cbc5-4da5-9aff-4dd5c6b8c9b3"
      },
      "source": [
        "data['activity'].value_counts().plot(kind='bar', title='Training examples by activity type');"
      ],
      "execution_count": null,
      "outputs": [
        {
          "data": {
            "image/png": "[encoded data removed]",
            "text/plain": [
              "<Figure size 432x288 with 1 Axes>"
            ]
          },
          "metadata": {},
          "output_type": "display_data"
        }
      ]
    },
    {
      "cell_type": "code",
      "metadata": {
        "id": "4sV7E_7pV8Si"
      },
      "source": [
        "# Normalize features for training data set (values between 0 and 1)\n",
        "# Surpress warning for next 3 operation\n",
        "pd.options.mode.chained_assignment = None  # default='warn'\n",
        "\n",
        "data['x-axis'] = data['x-axis'] / data['x-axis'].max()\n",
        "data['y-axis'] = data['y-axis'] / data['y-axis'].max()\n",
        "data['z-axis'] = data['z-axis'] / data['z-axis'].max()\n",
        "# Round numbers\n",
        "data = data.round({'x-axis': 4, 'y-axis': 4, 'z-axis': 4})"
      ],
      "execution_count": null,
      "outputs": []
    },
    {
      "cell_type": "code",
      "metadata": {
        "id": "J39VI6dRY5Wv"
      },
      "source": [
        "N_TIME_STEPS = 200\n",
        "N_FEATURES = 3\n",
        "\n",
        "step = 20\n",
        "segments = []\n",
        "labels = []\n",
        "for i in range(0, len(data) - N_TIME_STEPS, step):\n",
        "    xs = data['x-axis'].values[i: i + N_TIME_STEPS]\n",
        "    ys = data['y-axis'].values[i: i + N_TIME_STEPS]\n",
        "    zs = data['z-axis'].values[i: i + N_TIME_STEPS]\n",
        "    label = stats.mode(data['activity'][i: i + N_TIME_STEPS])[0][0]\n",
        "    segments.append([xs, ys, zs])\n",
        "    labels.append(label)"
      ],
      "execution_count": null,
      "outputs": []
    },
    {
      "cell_type": "code",
      "metadata": {
        "id": "wkinWWfDZSMz"
      },
      "source": [
        "reshaped_segments = np.asarray(segments, dtype= np.float32).reshape(-1, N_TIME_STEPS, N_FEATURES)\n",
        "labels = np.asarray(pd.get_dummies(labels), dtype = np.float32)"
      ],
      "execution_count": null,
      "outputs": []
    },
    {
      "cell_type": "code",
      "metadata": {
        "colab": {
          "base_uri": "https://localhost:8080/"
        },
        "id": "nD5twDwBZUPp",
        "outputId": "61779f7d-89d3-4362-be20-729f24f2be19"
      },
      "source": [
        "print(reshaped_segments.shape)\n",
        "print(labels[0])"
      ],
      "execution_count": null,
      "outputs": [
        {
          "name": "stdout",
          "output_type": "stream",
          "text": [
            "(54901, 200, 3)\n",
            "[0. 1. 0. 0. 0. 0.]\n"
          ]
        }
      ]
    },
    {
      "cell_type": "code",
      "metadata": {
        "id": "aIR7usM0ZcIZ"
      },
      "source": [
        "X_train, X_test, y_train, y_test = train_test_split(\n",
        "        reshaped_segments, labels, test_size=0.3, random_state=RANDOM_SEED)"
      ],
      "execution_count": null,
      "outputs": []
    },
    {
      "cell_type": "code",
      "metadata": {
        "colab": {
          "base_uri": "https://localhost:8080/"
        },
        "id": "OjMneS_7nq_6",
        "outputId": "92e7a511-88ad-437b-bfc3-8020e642e24d"
      },
      "source": [
        "print('X_train : ', len(X_train))\n",
        "print('X_test : ', len(X_test))"
      ],
      "execution_count": null,
      "outputs": [
        {
          "name": "stdout",
          "output_type": "stream",
          "text": [
            "X_train :  38430\n",
            "X_test :  16471\n"
          ]
        }
      ]
    },
    {
      "cell_type": "code",
      "metadata": {
        "colab": {
          "base_uri": "https://localhost:8080/"
        },
        "id": "jpPQm1SfcHph",
        "outputId": "6c51db4c-a662-4028-8549-2802a1e0b253"
      },
      "source": [
        "#y_train = np.asarray(y_train)\n",
        "#y_train.reshape(6405,6)\n",
        "y_train.shape"
      ],
      "execution_count": null,
      "outputs": [
        {
          "data": {
            "text/plain": [
              "(38430, 6)"
            ]
          },
          "execution_count": 18,
          "metadata": {},
          "output_type": "execute_result"
        }
      ]
    },
    {
      "cell_type": "code",
      "metadata": {
        "colab": {
          "base_uri": "https://localhost:8080/"
        },
        "id": "6Ij86QuSaFFN",
        "outputId": "a3b7d761-b3ca-46c8-afb5-9435defaf4df"
      },
      "source": [
        "verbose = 1\n",
        "epochs = 10\n",
        "batch_size = 400\n",
        "\n",
        "n_timesteps = X_train.shape[1]\n",
        "n_features = X_train.shape[2]\n",
        "n_outputs = y_train.shape[1]\n",
        "\n",
        "print('n_timesteps : ', n_timesteps)\n",
        "print('n_features : ', n_features)\n",
        "print('n_outputs : ', n_outputs)"
      ],
      "execution_count": null,
      "outputs": [
        {
          "name": "stdout",
          "output_type": "stream",
          "text": [
            "n_timesteps :  200\n",
            "n_features :  3\n",
            "n_outputs :  6\n"
          ]
        }
      ]
    },
    {
      "cell_type": "code",
      "metadata": {
        "colab": {
          "base_uri": "https://localhost:8080/"
        },
        "id": "tYMIGENv7QuR",
        "outputId": "db22b9b1-f702-4d65-a953-3e1157b2af9d"
      },
      "source": [
        "import tensorflow as tf\n",
        "from tensorflow.keras import Sequential\n",
        "from tensorflow.keras.layers import Flatten, Dense, Dropout, BatchNormalization\n",
        "from tensorflow.keras.layers import Conv2D, MaxPool2D, MaxPool1D\n",
        "from tensorflow.keras.optimizers import Adam, RMSprop\n",
        "print(tf.__version__)"
      ],
      "execution_count": null,
      "outputs": [
        {
          "name": "stdout",
          "output_type": "stream",
          "text": [
            "2.6.0\n"
          ]
        }
      ]
    },
    {
      "cell_type": "code",
      "metadata": {
        "id": "lwXyapbHf9MS"
      },
      "source": [
        "from tensorflow.keras.layers import LSTM, GRU, Conv1D , Bidirectional,RNN, BatchNormalization\n",
        "#Bi-LSTM-CNN\n",
        "def build_model(hp):\n",
        "  model = keras.Sequential()\n",
        "  model.add(Bidirectional(LSTM(hp.Int('units_1', min_value=16, max_value=128, step=16), activation='relu',input_shape=(None,n_timesteps,n_features) ,return_sequences=True)))\n",
        "  model.add(Bidirectional(LSTM(hp.Int('units_2', min_value=16, max_value=128, step=16) ,return_sequences=True)))\n",
        "  model.add(MaxPooling1D())\n",
        "  model.add(Dropout(0.1))\n",
        "  model.add(Conv1D(hp.Int('conv1D_filters_1', min_value=16, max_value=128, step=16),hp.Int('conv1D_kernel_size_1', min_value=3, max_value=7, step=2), activation='relu'))\n",
        "  model.add(Conv1D(hp.Int('conv1D_filters_2', min_value=16, max_value=128, step=16),hp.Int('conv1D_kernel_size_2', min_value=3, max_value=7, step=2), activation='relu'))\n",
        "  model.add(Dropout(0.3))\n",
        "  model.add(Flatten())\n",
        "  model.add(Dense(hp.Choice('units', [8, 16, 32, 64, 128]),activation='relu'))\n",
        "  #model.add(BatchNormalization())\n",
        "  model.add(Dense(6, activation='softmax'))\n",
        "  model.compile(optimizer=tf.keras.optimizers.Adam(learning_rate = 0.001), loss = 'categorical_crossentropy', metrics = ['accuracy'])\n",
        "  return model"
      ],
      "execution_count": null,
      "outputs": []
    },
    {
      "cell_type": "markdown",
      "metadata": {
        "id": "Mti-SKoZEKsa"
      },
      "source": [
        ""
      ]
    },
    {
      "cell_type": "code",
      "metadata": {
        "id": "S8uS2bCnDpRA"
      },
      "source": [
        "tuner = kt.RandomSearch(build_model, objective='val_accuracy', max_trials=10)"
      ],
      "execution_count": null,
      "outputs": []
    },
    {
      "cell_type": "code",
      "metadata": {
        "id": "_ANAzpviEmw0"
      },
      "source": [
        ""
      ],
      "execution_count": null,
      "outputs": []
    },
    {
      "cell_type": "code",
      "metadata": {
        "colab": {
          "background_save": true,
          "base_uri": "https://localhost:8080/"
        },
        "id": "TB0-uHdpD6CE",
        "outputId": "e9cfc85b-ae13-4dff-e0de-149285afbf21"
      },
      "source": [
        "tuner.search(X_train, y_train,batch_size = 1024 , epochs=10, validation_data=(X_test, y_test))\n",
        "best_model = tuner.get_best_models()[0]"
      ],
      "execution_count": null,
      "outputs": [
        {
          "name": "stdout",
          "output_type": "stream",
          "text": [
            "\n",
            "Search: Running Trial #1\n",
            "\n",
            "Hyperparameter    |Value             |Best Value So Far \n",
            "units_1           |80                |?                 \n",
            "units_2           |64                |?                 \n",
            "conv1D_filters_1  |80                |?                 \n",
            "conv1D_kernel_s...|3                 |?                 \n",
            "conv1D_filters_2  |96                |?                 \n",
            "conv1D_kernel_s...|3                 |?                 \n",
            "units             |8                 |?                 \n",
            "\n",
            "Epoch 1/10\n",
            " 8/38 [=====>........................] - ETA: 3:33 - loss: 1.6277 - accuracy: 0.3584"
          ]
        },
        {
          "ename": "KeyboardInterrupt",
          "evalue": "ignored",
          "output_type": "error",
          "traceback": [
            "\u001b[0;31m---------------------------------------------------------------------------\u001b[0m",
            "\u001b[0;31mKeyboardInterrupt\u001b[0m                         Traceback (most recent call last)",
            "\u001b[0;32m<ipython-input-23-59500c06b499>\u001b[0m in \u001b[0;36m<module>\u001b[0;34m()\u001b[0m\n\u001b[0;32m----> 1\u001b[0;31m \u001b[0mtuner\u001b[0m\u001b[0;34m.\u001b[0m\u001b[0msearch\u001b[0m\u001b[0;34m(\u001b[0m\u001b[0mX_train\u001b[0m\u001b[0;34m,\u001b[0m \u001b[0my_train\u001b[0m\u001b[0;34m,\u001b[0m\u001b[0mbatch_size\u001b[0m \u001b[0;34m=\u001b[0m \u001b[0;36m1024\u001b[0m \u001b[0;34m,\u001b[0m \u001b[0mepochs\u001b[0m\u001b[0;34m=\u001b[0m\u001b[0;36m10\u001b[0m\u001b[0;34m,\u001b[0m \u001b[0mvalidation_data\u001b[0m\u001b[0;34m=\u001b[0m\u001b[0;34m(\u001b[0m\u001b[0mX_test\u001b[0m\u001b[0;34m,\u001b[0m \u001b[0my_test\u001b[0m\u001b[0;34m)\u001b[0m\u001b[0;34m)\u001b[0m\u001b[0;34m\u001b[0m\u001b[0;34m\u001b[0m\u001b[0m\n\u001b[0m\u001b[1;32m      2\u001b[0m \u001b[0mbest_model\u001b[0m \u001b[0;34m=\u001b[0m \u001b[0mtuner\u001b[0m\u001b[0;34m.\u001b[0m\u001b[0mget_best_models\u001b[0m\u001b[0;34m(\u001b[0m\u001b[0;34m)\u001b[0m\u001b[0;34m[\u001b[0m\u001b[0;36m0\u001b[0m\u001b[0;34m]\u001b[0m\u001b[0;34m\u001b[0m\u001b[0;34m\u001b[0m\u001b[0m\n",
            "\u001b[0;32m/usr/local/lib/python3.7/dist-packages/keras_tuner/engine/base_tuner.py\u001b[0m in \u001b[0;36msearch\u001b[0;34m(self, *fit_args, **fit_kwargs)\u001b[0m\n\u001b[1;32m    177\u001b[0m \u001b[0;34m\u001b[0m\u001b[0m\n\u001b[1;32m    178\u001b[0m             \u001b[0mself\u001b[0m\u001b[0;34m.\u001b[0m\u001b[0mon_trial_begin\u001b[0m\u001b[0;34m(\u001b[0m\u001b[0mtrial\u001b[0m\u001b[0;34m)\u001b[0m\u001b[0;34m\u001b[0m\u001b[0;34m\u001b[0m\u001b[0m\n\u001b[0;32m--> 179\u001b[0;31m             \u001b[0mresults\u001b[0m \u001b[0;34m=\u001b[0m \u001b[0mself\u001b[0m\u001b[0;34m.\u001b[0m\u001b[0mrun_trial\u001b[0m\u001b[0;34m(\u001b[0m\u001b[0mtrial\u001b[0m\u001b[0;34m,\u001b[0m \u001b[0;34m*\u001b[0m\u001b[0mfit_args\u001b[0m\u001b[0;34m,\u001b[0m \u001b[0;34m**\u001b[0m\u001b[0mfit_kwargs\u001b[0m\u001b[0;34m)\u001b[0m\u001b[0;34m\u001b[0m\u001b[0;34m\u001b[0m\u001b[0m\n\u001b[0m\u001b[1;32m    180\u001b[0m             \u001b[0;31m# `results` is None indicates user updated oracle in `run_trial()`.\u001b[0m\u001b[0;34m\u001b[0m\u001b[0;34m\u001b[0m\u001b[0;34m\u001b[0m\u001b[0m\n\u001b[1;32m    181\u001b[0m             \u001b[0;32mif\u001b[0m \u001b[0mresults\u001b[0m \u001b[0;32mis\u001b[0m \u001b[0;32mNone\u001b[0m\u001b[0;34m:\u001b[0m\u001b[0;34m\u001b[0m\u001b[0;34m\u001b[0m\u001b[0m\n",
            "\u001b[0;32m/usr/local/lib/python3.7/dist-packages/keras_tuner/engine/tuner.py\u001b[0m in \u001b[0;36mrun_trial\u001b[0;34m(self, trial, *args, **kwargs)\u001b[0m\n\u001b[1;32m    302\u001b[0m             \u001b[0mcallbacks\u001b[0m\u001b[0;34m.\u001b[0m\u001b[0mappend\u001b[0m\u001b[0;34m(\u001b[0m\u001b[0mmodel_checkpoint\u001b[0m\u001b[0;34m)\u001b[0m\u001b[0;34m\u001b[0m\u001b[0;34m\u001b[0m\u001b[0m\n\u001b[1;32m    303\u001b[0m             \u001b[0mcopied_kwargs\u001b[0m\u001b[0;34m[\u001b[0m\u001b[0;34m\"callbacks\"\u001b[0m\u001b[0;34m]\u001b[0m \u001b[0;34m=\u001b[0m \u001b[0mcallbacks\u001b[0m\u001b[0;34m\u001b[0m\u001b[0;34m\u001b[0m\u001b[0m\n\u001b[0;32m--> 304\u001b[0;31m             \u001b[0mobj_value\u001b[0m \u001b[0;34m=\u001b[0m \u001b[0mself\u001b[0m\u001b[0;34m.\u001b[0m\u001b[0m_build_and_fit_model\u001b[0m\u001b[0;34m(\u001b[0m\u001b[0mtrial\u001b[0m\u001b[0;34m,\u001b[0m \u001b[0;34m*\u001b[0m\u001b[0margs\u001b[0m\u001b[0;34m,\u001b[0m \u001b[0;34m**\u001b[0m\u001b[0mcopied_kwargs\u001b[0m\u001b[0;34m)\u001b[0m\u001b[0;34m\u001b[0m\u001b[0;34m\u001b[0m\u001b[0m\n\u001b[0m\u001b[1;32m    305\u001b[0m \u001b[0;34m\u001b[0m\u001b[0m\n\u001b[1;32m    306\u001b[0m             \u001b[0;31m# objective left unspecified,\u001b[0m\u001b[0;34m\u001b[0m\u001b[0;34m\u001b[0m\u001b[0;34m\u001b[0m\u001b[0m\n",
            "\u001b[0;32m/usr/local/lib/python3.7/dist-packages/keras_tuner/engine/tuner.py\u001b[0m in \u001b[0;36m_build_and_fit_model\u001b[0;34m(self, trial, *args, **kwargs)\u001b[0m\n\u001b[1;32m    232\u001b[0m         \u001b[0mhp\u001b[0m \u001b[0;34m=\u001b[0m \u001b[0mtrial\u001b[0m\u001b[0;34m.\u001b[0m\u001b[0mhyperparameters\u001b[0m\u001b[0;34m\u001b[0m\u001b[0;34m\u001b[0m\u001b[0m\n\u001b[1;32m    233\u001b[0m         \u001b[0mmodel\u001b[0m \u001b[0;34m=\u001b[0m \u001b[0mself\u001b[0m\u001b[0;34m.\u001b[0m\u001b[0m_try_build\u001b[0m\u001b[0;34m(\u001b[0m\u001b[0mhp\u001b[0m\u001b[0;34m)\u001b[0m\u001b[0;34m\u001b[0m\u001b[0;34m\u001b[0m\u001b[0m\n\u001b[0;32m--> 234\u001b[0;31m         \u001b[0;32mreturn\u001b[0m \u001b[0mself\u001b[0m\u001b[0;34m.\u001b[0m\u001b[0mhypermodel\u001b[0m\u001b[0;34m.\u001b[0m\u001b[0mfit\u001b[0m\u001b[0;34m(\u001b[0m\u001b[0mhp\u001b[0m\u001b[0;34m,\u001b[0m \u001b[0mmodel\u001b[0m\u001b[0;34m,\u001b[0m \u001b[0;34m*\u001b[0m\u001b[0margs\u001b[0m\u001b[0;34m,\u001b[0m \u001b[0;34m**\u001b[0m\u001b[0mkwargs\u001b[0m\u001b[0;34m)\u001b[0m\u001b[0;34m\u001b[0m\u001b[0;34m\u001b[0m\u001b[0m\n\u001b[0m\u001b[1;32m    235\u001b[0m \u001b[0;34m\u001b[0m\u001b[0m\n\u001b[1;32m    236\u001b[0m     \u001b[0;32mdef\u001b[0m \u001b[0mrun_trial\u001b[0m\u001b[0;34m(\u001b[0m\u001b[0mself\u001b[0m\u001b[0;34m,\u001b[0m \u001b[0mtrial\u001b[0m\u001b[0;34m,\u001b[0m \u001b[0;34m*\u001b[0m\u001b[0margs\u001b[0m\u001b[0;34m,\u001b[0m \u001b[0;34m**\u001b[0m\u001b[0mkwargs\u001b[0m\u001b[0;34m)\u001b[0m\u001b[0;34m:\u001b[0m\u001b[0;34m\u001b[0m\u001b[0;34m\u001b[0m\u001b[0m\n",
            "\u001b[0;32m/usr/local/lib/python3.7/dist-packages/keras_tuner/engine/hypermodel.py\u001b[0m in \u001b[0;36mfit\u001b[0;34m(self, hp, model, *args, **kwargs)\u001b[0m\n\u001b[1;32m    135\u001b[0m             \u001b[0mIf\u001b[0m \u001b[0;32mreturn\u001b[0m \u001b[0ma\u001b[0m \u001b[0mfloat\u001b[0m\u001b[0;34m,\u001b[0m \u001b[0mit\u001b[0m \u001b[0mshould\u001b[0m \u001b[0mbe\u001b[0m \u001b[0mthe\u001b[0m\u001b[0;31m \u001b[0m\u001b[0;31m`\u001b[0m\u001b[0mobjective\u001b[0m\u001b[0;31m`\u001b[0m \u001b[0mvalue\u001b[0m\u001b[0;34m.\u001b[0m\u001b[0;34m\u001b[0m\u001b[0;34m\u001b[0m\u001b[0m\n\u001b[1;32m    136\u001b[0m         \"\"\"\n\u001b[0;32m--> 137\u001b[0;31m         \u001b[0;32mreturn\u001b[0m \u001b[0mmodel\u001b[0m\u001b[0;34m.\u001b[0m\u001b[0mfit\u001b[0m\u001b[0;34m(\u001b[0m\u001b[0;34m*\u001b[0m\u001b[0margs\u001b[0m\u001b[0;34m,\u001b[0m \u001b[0;34m**\u001b[0m\u001b[0mkwargs\u001b[0m\u001b[0;34m)\u001b[0m\u001b[0;34m\u001b[0m\u001b[0;34m\u001b[0m\u001b[0m\n\u001b[0m\u001b[1;32m    138\u001b[0m \u001b[0;34m\u001b[0m\u001b[0m\n\u001b[1;32m    139\u001b[0m \u001b[0;34m\u001b[0m\u001b[0m\n",
            "\u001b[0;32m/usr/local/lib/python3.7/dist-packages/keras/engine/training.py\u001b[0m in \u001b[0;36mfit\u001b[0;34m(self, x, y, batch_size, epochs, verbose, callbacks, validation_split, validation_data, shuffle, class_weight, sample_weight, initial_epoch, steps_per_epoch, validation_steps, validation_batch_size, validation_freq, max_queue_size, workers, use_multiprocessing)\u001b[0m\n\u001b[1;32m   1182\u001b[0m                 _r=1):\n\u001b[1;32m   1183\u001b[0m               \u001b[0mcallbacks\u001b[0m\u001b[0;34m.\u001b[0m\u001b[0mon_train_batch_begin\u001b[0m\u001b[0;34m(\u001b[0m\u001b[0mstep\u001b[0m\u001b[0;34m)\u001b[0m\u001b[0;34m\u001b[0m\u001b[0;34m\u001b[0m\u001b[0m\n\u001b[0;32m-> 1184\u001b[0;31m               \u001b[0mtmp_logs\u001b[0m \u001b[0;34m=\u001b[0m \u001b[0mself\u001b[0m\u001b[0;34m.\u001b[0m\u001b[0mtrain_function\u001b[0m\u001b[0;34m(\u001b[0m\u001b[0miterator\u001b[0m\u001b[0;34m)\u001b[0m\u001b[0;34m\u001b[0m\u001b[0;34m\u001b[0m\u001b[0m\n\u001b[0m\u001b[1;32m   1185\u001b[0m               \u001b[0;32mif\u001b[0m \u001b[0mdata_handler\u001b[0m\u001b[0;34m.\u001b[0m\u001b[0mshould_sync\u001b[0m\u001b[0;34m:\u001b[0m\u001b[0;34m\u001b[0m\u001b[0;34m\u001b[0m\u001b[0m\n\u001b[1;32m   1186\u001b[0m                 \u001b[0mcontext\u001b[0m\u001b[0;34m.\u001b[0m\u001b[0masync_wait\u001b[0m\u001b[0;34m(\u001b[0m\u001b[0;34m)\u001b[0m\u001b[0;34m\u001b[0m\u001b[0;34m\u001b[0m\u001b[0m\n",
            "\u001b[0;32m/usr/local/lib/python3.7/dist-packages/tensorflow/python/eager/def_function.py\u001b[0m in \u001b[0;36m__call__\u001b[0;34m(self, *args, **kwds)\u001b[0m\n\u001b[1;32m    883\u001b[0m \u001b[0;34m\u001b[0m\u001b[0m\n\u001b[1;32m    884\u001b[0m       \u001b[0;32mwith\u001b[0m \u001b[0mOptionalXlaContext\u001b[0m\u001b[0;34m(\u001b[0m\u001b[0mself\u001b[0m\u001b[0;34m.\u001b[0m\u001b[0m_jit_compile\u001b[0m\u001b[0;34m)\u001b[0m\u001b[0;34m:\u001b[0m\u001b[0;34m\u001b[0m\u001b[0;34m\u001b[0m\u001b[0m\n\u001b[0;32m--> 885\u001b[0;31m         \u001b[0mresult\u001b[0m \u001b[0;34m=\u001b[0m \u001b[0mself\u001b[0m\u001b[0;34m.\u001b[0m\u001b[0m_call\u001b[0m\u001b[0;34m(\u001b[0m\u001b[0;34m*\u001b[0m\u001b[0margs\u001b[0m\u001b[0;34m,\u001b[0m \u001b[0;34m**\u001b[0m\u001b[0mkwds\u001b[0m\u001b[0;34m)\u001b[0m\u001b[0;34m\u001b[0m\u001b[0;34m\u001b[0m\u001b[0m\n\u001b[0m\u001b[1;32m    886\u001b[0m \u001b[0;34m\u001b[0m\u001b[0m\n\u001b[1;32m    887\u001b[0m       \u001b[0mnew_tracing_count\u001b[0m \u001b[0;34m=\u001b[0m \u001b[0mself\u001b[0m\u001b[0;34m.\u001b[0m\u001b[0mexperimental_get_tracing_count\u001b[0m\u001b[0;34m(\u001b[0m\u001b[0;34m)\u001b[0m\u001b[0;34m\u001b[0m\u001b[0;34m\u001b[0m\u001b[0m\n",
            "\u001b[0;32m/usr/local/lib/python3.7/dist-packages/tensorflow/python/eager/def_function.py\u001b[0m in \u001b[0;36m_call\u001b[0;34m(self, *args, **kwds)\u001b[0m\n\u001b[1;32m    915\u001b[0m       \u001b[0;31m# In this case we have created variables on the first call, so we run the\u001b[0m\u001b[0;34m\u001b[0m\u001b[0;34m\u001b[0m\u001b[0;34m\u001b[0m\u001b[0m\n\u001b[1;32m    916\u001b[0m       \u001b[0;31m# defunned version which is guaranteed to never create variables.\u001b[0m\u001b[0;34m\u001b[0m\u001b[0;34m\u001b[0m\u001b[0;34m\u001b[0m\u001b[0m\n\u001b[0;32m--> 917\u001b[0;31m       \u001b[0;32mreturn\u001b[0m \u001b[0mself\u001b[0m\u001b[0;34m.\u001b[0m\u001b[0m_stateless_fn\u001b[0m\u001b[0;34m(\u001b[0m\u001b[0;34m*\u001b[0m\u001b[0margs\u001b[0m\u001b[0;34m,\u001b[0m \u001b[0;34m**\u001b[0m\u001b[0mkwds\u001b[0m\u001b[0;34m)\u001b[0m  \u001b[0;31m# pylint: disable=not-callable\u001b[0m\u001b[0;34m\u001b[0m\u001b[0;34m\u001b[0m\u001b[0m\n\u001b[0m\u001b[1;32m    918\u001b[0m     \u001b[0;32melif\u001b[0m \u001b[0mself\u001b[0m\u001b[0;34m.\u001b[0m\u001b[0m_stateful_fn\u001b[0m \u001b[0;32mis\u001b[0m \u001b[0;32mnot\u001b[0m \u001b[0;32mNone\u001b[0m\u001b[0;34m:\u001b[0m\u001b[0;34m\u001b[0m\u001b[0;34m\u001b[0m\u001b[0m\n\u001b[1;32m    919\u001b[0m       \u001b[0;31m# Release the lock early so that multiple threads can perform the call\u001b[0m\u001b[0;34m\u001b[0m\u001b[0;34m\u001b[0m\u001b[0;34m\u001b[0m\u001b[0m\n",
            "\u001b[0;32m/usr/local/lib/python3.7/dist-packages/tensorflow/python/eager/function.py\u001b[0m in \u001b[0;36m__call__\u001b[0;34m(self, *args, **kwargs)\u001b[0m\n\u001b[1;32m   3038\u001b[0m        filtered_flat_args) = self._maybe_define_function(args, kwargs)\n\u001b[1;32m   3039\u001b[0m     return graph_function._call_flat(\n\u001b[0;32m-> 3040\u001b[0;31m         filtered_flat_args, captured_inputs=graph_function.captured_inputs)  # pylint: disable=protected-access\n\u001b[0m\u001b[1;32m   3041\u001b[0m \u001b[0;34m\u001b[0m\u001b[0m\n\u001b[1;32m   3042\u001b[0m   \u001b[0;34m@\u001b[0m\u001b[0mproperty\u001b[0m\u001b[0;34m\u001b[0m\u001b[0;34m\u001b[0m\u001b[0m\n",
            "\u001b[0;32m/usr/local/lib/python3.7/dist-packages/tensorflow/python/eager/function.py\u001b[0m in \u001b[0;36m_call_flat\u001b[0;34m(self, args, captured_inputs, cancellation_manager)\u001b[0m\n\u001b[1;32m   1962\u001b[0m       \u001b[0;31m# No tape is watching; skip to running the function.\u001b[0m\u001b[0;34m\u001b[0m\u001b[0;34m\u001b[0m\u001b[0;34m\u001b[0m\u001b[0m\n\u001b[1;32m   1963\u001b[0m       return self._build_call_outputs(self._inference_function.call(\n\u001b[0;32m-> 1964\u001b[0;31m           ctx, args, cancellation_manager=cancellation_manager))\n\u001b[0m\u001b[1;32m   1965\u001b[0m     forward_backward = self._select_forward_and_backward_functions(\n\u001b[1;32m   1966\u001b[0m         \u001b[0margs\u001b[0m\u001b[0;34m,\u001b[0m\u001b[0;34m\u001b[0m\u001b[0;34m\u001b[0m\u001b[0m\n",
            "\u001b[0;32m/usr/local/lib/python3.7/dist-packages/tensorflow/python/eager/function.py\u001b[0m in \u001b[0;36mcall\u001b[0;34m(self, ctx, args, cancellation_manager)\u001b[0m\n\u001b[1;32m    594\u001b[0m               \u001b[0minputs\u001b[0m\u001b[0;34m=\u001b[0m\u001b[0margs\u001b[0m\u001b[0;34m,\u001b[0m\u001b[0;34m\u001b[0m\u001b[0;34m\u001b[0m\u001b[0m\n\u001b[1;32m    595\u001b[0m               \u001b[0mattrs\u001b[0m\u001b[0;34m=\u001b[0m\u001b[0mattrs\u001b[0m\u001b[0;34m,\u001b[0m\u001b[0;34m\u001b[0m\u001b[0;34m\u001b[0m\u001b[0m\n\u001b[0;32m--> 596\u001b[0;31m               ctx=ctx)\n\u001b[0m\u001b[1;32m    597\u001b[0m         \u001b[0;32melse\u001b[0m\u001b[0;34m:\u001b[0m\u001b[0;34m\u001b[0m\u001b[0;34m\u001b[0m\u001b[0m\n\u001b[1;32m    598\u001b[0m           outputs = execute.execute_with_cancellation(\n",
            "\u001b[0;32m/usr/local/lib/python3.7/dist-packages/tensorflow/python/eager/execute.py\u001b[0m in \u001b[0;36mquick_execute\u001b[0;34m(op_name, num_outputs, inputs, attrs, ctx, name)\u001b[0m\n\u001b[1;32m     58\u001b[0m     \u001b[0mctx\u001b[0m\u001b[0;34m.\u001b[0m\u001b[0mensure_initialized\u001b[0m\u001b[0;34m(\u001b[0m\u001b[0;34m)\u001b[0m\u001b[0;34m\u001b[0m\u001b[0;34m\u001b[0m\u001b[0m\n\u001b[1;32m     59\u001b[0m     tensors = pywrap_tfe.TFE_Py_Execute(ctx._handle, device_name, op_name,\n\u001b[0;32m---> 60\u001b[0;31m                                         inputs, attrs, num_outputs)\n\u001b[0m\u001b[1;32m     61\u001b[0m   \u001b[0;32mexcept\u001b[0m \u001b[0mcore\u001b[0m\u001b[0;34m.\u001b[0m\u001b[0m_NotOkStatusException\u001b[0m \u001b[0;32mas\u001b[0m \u001b[0me\u001b[0m\u001b[0;34m:\u001b[0m\u001b[0;34m\u001b[0m\u001b[0;34m\u001b[0m\u001b[0m\n\u001b[1;32m     62\u001b[0m     \u001b[0;32mif\u001b[0m \u001b[0mname\u001b[0m \u001b[0;32mis\u001b[0m \u001b[0;32mnot\u001b[0m \u001b[0;32mNone\u001b[0m\u001b[0;34m:\u001b[0m\u001b[0;34m\u001b[0m\u001b[0;34m\u001b[0m\u001b[0m\n",
            "\u001b[0;31mKeyboardInterrupt\u001b[0m: "
          ]
        }
      ]
    },
    {
      "cell_type": "code",
      "metadata": {
        "colab": {
          "base_uri": "https://localhost:8080/"
        },
        "id": "13XWnuf1gMOE",
        "outputId": "6244f800-e56d-4851-91b2-32f275e48d37"
      },
      "source": [
        "model1.compile(optimizer=tf.keras.optimizers.Adam(learning_rate = 0.001), loss = 'mse', metrics = ['accuracy'])\n",
        "history = model1.fit(X_train, y_train, batch_size = 512, epochs = 250, validation_data= (X_test, y_test), verbose=1)"
      ],
      "execution_count": null,
      "outputs": [
        {
          "name": "stdout",
          "output_type": "stream",
          "text": [
            "Epoch 1/250\n",
            "76/76 [==============================] - 42s 280ms/step - loss: 0.0040 - accuracy: 0.9855 - val_loss: 0.0049 - val_accuracy: 0.9815\n",
            "Epoch 2/250\n",
            "76/76 [==============================] - 20s 260ms/step - loss: 0.0028 - accuracy: 0.9896 - val_loss: 0.0061 - val_accuracy: 0.9768\n",
            "Epoch 3/250\n",
            "76/76 [==============================] - 20s 261ms/step - loss: 0.0026 - accuracy: 0.9906 - val_loss: 0.0068 - val_accuracy: 0.9746\n",
            "Epoch 4/250\n",
            "76/76 [==============================] - 20s 261ms/step - loss: 0.0030 - accuracy: 0.9889 - val_loss: 0.0060 - val_accuracy: 0.9772\n",
            "Epoch 5/250\n",
            "76/76 [==============================] - 20s 261ms/step - loss: 0.0025 - accuracy: 0.9906 - val_loss: 0.0047 - val_accuracy: 0.9823\n",
            "Epoch 6/250\n",
            "76/76 [==============================] - 20s 261ms/step - loss: 0.0023 - accuracy: 0.9916 - val_loss: 0.0048 - val_accuracy: 0.9821\n",
            "Epoch 7/250\n",
            "76/76 [==============================] - 20s 261ms/step - loss: 0.0022 - accuracy: 0.9922 - val_loss: 0.0058 - val_accuracy: 0.9791\n",
            "Epoch 8/250\n",
            "76/76 [==============================] - 20s 261ms/step - loss: 0.0027 - accuracy: 0.9902 - val_loss: 0.0062 - val_accuracy: 0.9766\n",
            "Epoch 9/250\n",
            "76/76 [==============================] - 20s 261ms/step - loss: 0.0030 - accuracy: 0.9887 - val_loss: 0.0053 - val_accuracy: 0.9794\n",
            "Epoch 10/250\n",
            "76/76 [==============================] - 20s 261ms/step - loss: 0.0022 - accuracy: 0.9920 - val_loss: 0.0051 - val_accuracy: 0.9806\n",
            "Epoch 11/250\n",
            "76/76 [==============================] - 20s 261ms/step - loss: 0.0019 - accuracy: 0.9927 - val_loss: 0.0070 - val_accuracy: 0.9744\n",
            "Epoch 12/250\n",
            "76/76 [==============================] - 20s 261ms/step - loss: 0.0040 - accuracy: 0.9852 - val_loss: 0.0218 - val_accuracy: 0.9191\n",
            "Epoch 13/250\n",
            "76/76 [==============================] - 20s 261ms/step - loss: 0.0056 - accuracy: 0.9794 - val_loss: 0.0049 - val_accuracy: 0.9817\n",
            "Epoch 14/250\n",
            "76/76 [==============================] - 20s 261ms/step - loss: 0.0017 - accuracy: 0.9942 - val_loss: 0.0043 - val_accuracy: 0.9840\n",
            "Epoch 15/250\n",
            "76/76 [==============================] - 20s 260ms/step - loss: 0.0020 - accuracy: 0.9926 - val_loss: 0.0043 - val_accuracy: 0.9839\n",
            "Epoch 16/250\n",
            "76/76 [==============================] - 20s 260ms/step - loss: 0.0014 - accuracy: 0.9952 - val_loss: 0.0038 - val_accuracy: 0.9854\n",
            "Epoch 17/250\n",
            "76/76 [==============================] - 20s 260ms/step - loss: 0.0013 - accuracy: 0.9955 - val_loss: 0.0040 - val_accuracy: 0.9853\n",
            "Epoch 18/250\n",
            "76/76 [==============================] - 20s 260ms/step - loss: 0.0015 - accuracy: 0.9944 - val_loss: 0.0045 - val_accuracy: 0.9833\n",
            "Epoch 19/250\n",
            "76/76 [==============================] - 20s 261ms/step - loss: 0.0016 - accuracy: 0.9943 - val_loss: 0.0042 - val_accuracy: 0.9845\n",
            "Epoch 20/250\n",
            "76/76 [==============================] - 20s 259ms/step - loss: 0.0020 - accuracy: 0.9927 - val_loss: 0.0043 - val_accuracy: 0.9840\n",
            "Epoch 21/250\n",
            "76/76 [==============================] - 20s 260ms/step - loss: 0.0014 - accuracy: 0.9950 - val_loss: 0.0041 - val_accuracy: 0.9848\n",
            "Epoch 22/250\n",
            "76/76 [==============================] - 20s 259ms/step - loss: 0.0015 - accuracy: 0.9948 - val_loss: 0.0049 - val_accuracy: 0.9820\n",
            "Epoch 23/250\n",
            "76/76 [==============================] - 20s 260ms/step - loss: 0.0014 - accuracy: 0.9953 - val_loss: 0.0041 - val_accuracy: 0.9842\n",
            "Epoch 24/250\n",
            "76/76 [==============================] - 20s 261ms/step - loss: 0.0018 - accuracy: 0.9933 - val_loss: 0.0042 - val_accuracy: 0.9842\n",
            "Epoch 25/250\n",
            "76/76 [==============================] - 20s 261ms/step - loss: 0.0016 - accuracy: 0.9939 - val_loss: 0.0042 - val_accuracy: 0.9839\n",
            "Epoch 26/250\n",
            "76/76 [==============================] - 20s 262ms/step - loss: 0.0013 - accuracy: 0.9956 - val_loss: 0.0040 - val_accuracy: 0.9849\n",
            "Epoch 27/250\n",
            "76/76 [==============================] - 20s 262ms/step - loss: 0.0012 - accuracy: 0.9956 - val_loss: 0.0062 - val_accuracy: 0.9768\n",
            "Epoch 28/250\n",
            "76/76 [==============================] - 20s 261ms/step - loss: 0.0031 - accuracy: 0.9887 - val_loss: 0.0046 - val_accuracy: 0.9831\n",
            "Epoch 29/250\n",
            "76/76 [==============================] - 20s 262ms/step - loss: 0.0019 - accuracy: 0.9933 - val_loss: 0.0045 - val_accuracy: 0.9832\n",
            "Epoch 30/250\n",
            "76/76 [==============================] - 20s 262ms/step - loss: 0.0012 - accuracy: 0.9958 - val_loss: 0.0045 - val_accuracy: 0.9834\n",
            "Epoch 31/250\n",
            "76/76 [==============================] - 20s 262ms/step - loss: 0.0013 - accuracy: 0.9955 - val_loss: 0.0045 - val_accuracy: 0.9839\n",
            "Epoch 32/250\n",
            "76/76 [==============================] - 20s 261ms/step - loss: 0.0012 - accuracy: 0.9956 - val_loss: 0.0042 - val_accuracy: 0.9842\n",
            "Epoch 33/250\n",
            "76/76 [==============================] - 20s 261ms/step - loss: 0.0014 - accuracy: 0.9951 - val_loss: 0.0043 - val_accuracy: 0.9839\n",
            "Epoch 34/250\n",
            "76/76 [==============================] - 20s 262ms/step - loss: 0.0014 - accuracy: 0.9950 - val_loss: 0.0042 - val_accuracy: 0.9846\n",
            "Epoch 35/250\n",
            "76/76 [==============================] - 20s 261ms/step - loss: 0.0014 - accuracy: 0.9950 - val_loss: 0.0049 - val_accuracy: 0.9815\n",
            "Epoch 36/250\n",
            "76/76 [==============================] - 20s 263ms/step - loss: 0.0015 - accuracy: 0.9948 - val_loss: 0.0040 - val_accuracy: 0.9858\n",
            "Epoch 37/250\n",
            "76/76 [==============================] - 20s 263ms/step - loss: 0.0012 - accuracy: 0.9959 - val_loss: 0.0041 - val_accuracy: 0.9846\n",
            "Epoch 38/250\n",
            "76/76 [==============================] - 20s 264ms/step - loss: 0.0015 - accuracy: 0.9947 - val_loss: 0.0050 - val_accuracy: 0.9818\n",
            "Epoch 39/250\n",
            "76/76 [==============================] - 20s 263ms/step - loss: 0.0014 - accuracy: 0.9950 - val_loss: 0.0038 - val_accuracy: 0.9852\n",
            "Epoch 40/250\n",
            "76/76 [==============================] - 20s 263ms/step - loss: 0.0013 - accuracy: 0.9956 - val_loss: 0.0043 - val_accuracy: 0.9842\n",
            "Epoch 41/250\n",
            "76/76 [==============================] - 20s 262ms/step - loss: 0.0012 - accuracy: 0.9954 - val_loss: 0.0042 - val_accuracy: 0.9843\n",
            "Epoch 42/250\n",
            "76/76 [==============================] - 20s 262ms/step - loss: 0.0012 - accuracy: 0.9959 - val_loss: 0.0041 - val_accuracy: 0.9846\n",
            "Epoch 43/250\n",
            "76/76 [==============================] - 20s 263ms/step - loss: 0.0018 - accuracy: 0.9931 - val_loss: 0.0055 - val_accuracy: 0.9795\n",
            "Epoch 44/250\n",
            "76/76 [==============================] - 20s 262ms/step - loss: 0.0016 - accuracy: 0.9945 - val_loss: 0.0038 - val_accuracy: 0.9859\n",
            "Epoch 45/250\n",
            "76/76 [==============================] - 20s 263ms/step - loss: 9.9106e-04 - accuracy: 0.9966 - val_loss: 0.0042 - val_accuracy: 0.9848\n",
            "Epoch 46/250\n",
            "76/76 [==============================] - 20s 262ms/step - loss: 0.0012 - accuracy: 0.9956 - val_loss: 0.0045 - val_accuracy: 0.9839\n",
            "Epoch 47/250\n",
            "76/76 [==============================] - 20s 262ms/step - loss: 0.0018 - accuracy: 0.9936 - val_loss: 0.0045 - val_accuracy: 0.9834\n",
            "Epoch 48/250\n",
            "76/76 [==============================] - 20s 262ms/step - loss: 0.0015 - accuracy: 0.9948 - val_loss: 0.0040 - val_accuracy: 0.9854\n",
            "Epoch 49/250\n",
            "76/76 [==============================] - 20s 262ms/step - loss: 0.0012 - accuracy: 0.9959 - val_loss: 0.0038 - val_accuracy: 0.9863\n",
            "Epoch 50/250\n",
            "76/76 [==============================] - 20s 262ms/step - loss: 9.9938e-04 - accuracy: 0.9966 - val_loss: 0.0037 - val_accuracy: 0.9863\n",
            "Epoch 51/250\n",
            "76/76 [==============================] - 20s 262ms/step - loss: 0.0014 - accuracy: 0.9949 - val_loss: 0.0048 - val_accuracy: 0.9825\n",
            "Epoch 52/250\n",
            "76/76 [==============================] - 20s 261ms/step - loss: 0.0012 - accuracy: 0.9958 - val_loss: 0.0037 - val_accuracy: 0.9863\n",
            "Epoch 53/250\n",
            "76/76 [==============================] - 20s 262ms/step - loss: 0.0011 - accuracy: 0.9962 - val_loss: 0.0038 - val_accuracy: 0.9857\n",
            "Epoch 54/250\n",
            "23/76 [========>.....................] - ETA: 12s - loss: 0.0018 - accuracy: 0.9932"
          ]
        }
      ]
    },
    {
      "cell_type": "code",
      "metadata": {
        "id": "4Xa8L3-q_YPy"
      },
      "source": [
        "from tensorflow.keras.layers import LSTM, GRU, Conv1D , Bidirectional,RNN, BatchNormalization\n",
        "model1=Sequential()\n",
        "model1.add(Bidirectional(LSTM(64, input_shape=(None,n_timesteps,n_features) ,return_sequences=True)))\n",
        "model1.add(Bidirectional(LSTM(64 ,return_sequences=True)))\n",
        "\n",
        "model1.add(MaxPooling1D())\n",
        "model1.add(Dropout(0.1))\n",
        "model1.add(Conv1D(64,3, activation='relu'))\n",
        "model1.add(Conv1D(32,3, activation='relu'))\n",
        "model1.add(Dropout(0.3))\n",
        "model1.add(Flatten())\n",
        "model1.add(Dense(128, activation='relu'))\n",
        "#model1.add(BatchNormalization())\n",
        "model1.add(Dense(6, activation='softmax'))"
      ],
      "execution_count": null,
      "outputs": []
    },
    {
      "cell_type": "code",
      "metadata": {
        "id": "T5RVZiEK81C8"
      },
      "source": [
        "y_pred=model1.predict(X_test)\n",
        "Y_pred = np.argmax(y_pred,axis=1)\n",
        "Y_test = np.argmax(y_test,axis=1)"
      ],
      "execution_count": null,
      "outputs": []
    },
    {
      "cell_type": "code",
      "metadata": {
        "colab": {
          "base_uri": "https://localhost:8080/"
        },
        "id": "wxwynz4h9Qgp",
        "outputId": "5f0e1a45-a36e-40d3-a82f-5182a552c9b6"
      },
      "source": [
        "from sklearn.metrics import accuracy_score,confusion_matrix,recall_score,precision_score,f1_score, precision_recall_fscore_support\n",
        "print('accuracy:', accuracy_score(Y_test,Y_pred))\n",
        "confusion_matrix(Y_test,Y_pred)"
      ],
      "execution_count": null,
      "outputs": [
        {
          "name": "stdout",
          "output_type": "stream",
          "text": [
            "accuracy: 0.9820290207030539\n"
          ]
        },
        {
          "data": {
            "text/plain": [
              "array([[1460,    2,    0,    1,   53,   14],\n",
              "       [   6, 5180,    1,    0,    4,    7],\n",
              "       [   4,    0,  885,    4,    0,    0],\n",
              "       [   2,    0,    1,  686,    0,    3],\n",
              "       [  86,    7,    4,    2, 1685,   13],\n",
              "       [  32,    9,    5,    7,   29, 6279]])"
            ]
          },
          "execution_count": 27,
          "metadata": {},
          "output_type": "execute_result"
        }
      ]
    },
    {
      "cell_type": "code",
      "metadata": {
        "colab": {
          "base_uri": "https://localhost:8080/"
        },
        "id": "0X3Ci6YB9mVD",
        "outputId": "460e3b98-2ba8-42fb-8ee8-e687e0d8e18e"
      },
      "source": [
        "print(precision_recall_fscore_support(Y_test, Y_pred,average='weighted'))"
      ],
      "execution_count": null,
      "outputs": [
        {
          "name": "stdout",
          "output_type": "stream",
          "text": [
            "(0.9822461484426128, 0.9820290207030539, 0.9820936104087354, None)\n"
          ]
        }
      ]
    },
    {
      "cell_type": "code",
      "metadata": {
        "colab": {
          "base_uri": "https://localhost:8080/",
          "height": 294
        },
        "id": "cUYNc8d9-yT1",
        "outputId": "c72ab167-fcc8-4d35-abec-14bce896834e"
      },
      "source": [
        "import matplotlib.pyplot as plt\n",
        "loss_train = history.history['loss']\n",
        "loss_val = history.history['val_loss']\n",
        "epochs = range(0,50)\n",
        "plt.plot(epochs, loss_train, 'g', label='Training loss')\n",
        "plt.plot(epochs, loss_val, 'b', label='validation loss')\n",
        "plt.title('Training and Validation loss')\n",
        "plt.xlabel('Epochs')\n",
        "plt.ylabel('Loss')\n",
        "plt.legend()\n",
        "plt.savefig('1st.png')\n",
        "plt.show()"
      ],
      "execution_count": null,
      "outputs": [
        {
          "data": {
            "image/png": "[encoded data removed]",
            "text/plain": [
              "<Figure size 432x288 with 1 Axes>"
            ]
          },
          "metadata": {},
          "output_type": "display_data"
        }
      ]
    },
    {
      "cell_type": "code",
      "metadata": {
        "colab": {
          "base_uri": "https://localhost:8080/",
          "height": 294
        },
        "id": "Y17qYz1bxA4O",
        "outputId": "6e1b4870-80e7-4aaa-c600-9bd8e7a3e58f"
      },
      "source": [
        "loss_train =history.history['accuracy']\n",
        "loss_val = history.history['val_accuracy']\n",
        "epochs = range(0,50)\n",
        "plt.plot(epochs, loss_train, 'g', label='Training accuracy')\n",
        "plt.plot(epochs, loss_val, 'b', label='validation accuracy')\n",
        "plt.title('Training and Validation accuracy')\n",
        "plt.xlabel('Epochs')\n",
        "plt.ylabel('Accuracy')\n",
        "plt.legend()\n",
        "plt.show()"
      ],
      "execution_count": null,
      "outputs": [
        {
          "data": {
            "image/png": "[encoded data removed]",
            "text/plain": [
              "<Figure size 432x288 with 1 Axes>"
            ]
          },
          "metadata": {},
          "output_type": "display_data"
        }
      ]
    },
    {
      "cell_type": "code",
      "metadata": {
        "colab": {
          "background_save": true
        },
        "id": "Hn63F5FF6lhk"
      },
      "source": [
        "from tensorflow.keras.layers import LSTM, GRU, Conv1D , Bidirectional\n",
        "model =Sequential()\n",
        "#model.add(Conv1D(128,3,activation='relu',input_shape=X_train[0].shape))\n",
        "\n",
        "#model.add(Dropout(0.1))\n",
        "model.add(Bidirectional(LSTM(128, activation='relu', input_shape=(n_timesteps,n_features) ,return_sequences=True)))\n",
        "model.add(Dropout(0.1))\n",
        "model.add(Bidirectional(LSTM(128, activation='relu',return_sequences=True)))\n",
        "model.add(Dropout(0.3))\n",
        "#model.add(Flatten())\n",
        "model.add(GRU(32, activation=\"relu\") #return_sequences=True))\n",
        "model.add(GRU(32, activation=\"relu\") #return_sequences=True))\n",
        "model.add(Dropout(0.5))\n",
        "model.add(Flatten())\n",
        "model.add(Dense(64, activation='relu'))\n",
        "#model.add(Dropout(0.3))\n",
        "model.add(Dense(6, activation='softmax'))"
      ],
      "execution_count": null,
      "outputs": []
    },
    {
      "cell_type": "code",
      "metadata": {
        "colab": {
          "background_save": true
        },
        "id": "y2xHeznR66OX"
      },
      "source": [
        "model.compile(optimizer=tf.keras.optimizers.RMSprop(learning_rate = 0.001), loss = 'mse', metrics = ['accuracy'])"
      ],
      "execution_count": null,
      "outputs": []
    },
    {
      "cell_type": "code",
      "metadata": {
        "colab": {
          "background_save": true
        },
        "id": "5UQIWLEw7Vx_"
      },
      "source": [
        "history = model.fit(X_train, y_train, epochs = 10, validation_data= (X_test, y_test), verbose=1)"
      ],
      "execution_count": null,
      "outputs": []
    },
    {
      "cell_type": "code",
      "metadata": {
        "colab": {
          "background_save": true
        },
        "id": "tReoStBwmcMk"
      },
      "source": [
        "1#CNN model\n",
        "cnn_model = Sequential([\n",
        "                        Conv1D(64,3, activation='relu', input_shape=(n_timesteps,n_features)),\n",
        "                        MaxPooling1D(pool_size=2),\n",
        "                        Flatten(),\n",
        "                        Dense(128, activation='relu'),\n",
        "                        Dropout(0.3),\n",
        "                        Dense(n_outputs, activation='softmax')\n",
        "])\n",
        "\n",
        "cnn_model.compile(optimizer='adam', loss='mse', metrics=['accuracy'])\n",
        "cnn_model.summary()"
      ],
      "execution_count": null,
      "outputs": []
    },
    {
      "cell_type": "code",
      "metadata": {
        "colab": {
          "background_save": true
        },
        "id": "8KvTafQInCHi"
      },
      "source": [
        "cnn_model_history = cnn_model.fit(X_train, y_train, epochs=10, validation_split=0.15, shuffle=True)"
      ],
      "execution_count": null,
      "outputs": []
    },
    {
      "cell_type": "code",
      "metadata": {
        "colab": {
          "background_save": true
        },
        "id": "P0wHbbmISxH2"
      },
      "source": [
        "y_pred=cnn_model.predict(X_test)\n",
        "Y_pred = np.argmax(y_pred,axis=1)\n",
        "Y_test = np.argmax(y_test,axis=1)"
      ],
      "execution_count": null,
      "outputs": []
    },
    {
      "cell_type": "code",
      "metadata": {
        "colab": {
          "background_save": true
        },
        "id": "KXXxS7GlUdrg"
      },
      "source": [
        "from sklearn.metrics import accuracy_score,confusion_matrix"
      ],
      "execution_count": null,
      "outputs": []
    },
    {
      "cell_type": "code",
      "metadata": {
        "colab": {
          "background_save": true
        },
        "id": "y9Jc8GFWVsp3"
      },
      "source": [
        "from sklearn.metrics import accuracy_score,confusion_matrix\n",
        "print('accuracy:', accuracy_score(Y_test,Y_pred))\n",
        "confusion_matrix(Y_test,Y_pred)"
      ],
      "execution_count": null,
      "outputs": []
    },
    {
      "cell_type": "code",
      "metadata": {
        "colab": {
          "background_save": true
        },
        "id": "tduFawaAUmLe"
      },
      "source": [
        "print('accuracy:', accuracy_score(Y_test,Y_pred))"
      ],
      "execution_count": null,
      "outputs": []
    },
    {
      "cell_type": "code",
      "metadata": {
        "colab": {
          "background_save": true
        },
        "id": "eRICHIwBqhZE"
      },
      "source": [
        "#Importing libraries\n",
        "import sys \n",
        "import numpy\n",
        "import xlrd #excel read\n",
        "import pandas as pd\n",
        "import os\n",
        "import matplotlib.pyplot as plt\n",
        "import io\n",
        "import math\n",
        "from sklearn import preprocessing\n",
        "from sklearn.preprocessing import MinMaxScaler, StandardScaler\n",
        "from sklearn.ensemble import AdaBoostRegressor, RandomForestRegressor\n",
        "from scipy.signal import savgol_filter\n",
        "from scipy import signal\n",
        "from scipy.spatial import distance\n",
        "from sklearn.model_selection import train_test_split\n",
        " \n",
        "from tensorflow import keras, convert_to_tensor, float32, make_ndarray\n",
        "from tensorflow.compat.v1 import Session\n",
        "from tensorflow.keras import layers, backend\n",
        "from tensorflow.keras.utils import plot_model\n",
        "from tensorflow.keras.models import Sequential, Model\n",
        "from tensorflow.keras.layers import Dense, Flatten, Input, GlobalAveragePooling1D, Dropout\n",
        "from tensorflow.keras.layers import LSTM, GRU, Conv1D, MaxPooling1D, MaxPool1D, TimeDistributed, RepeatVector, Conv2D\n",
        "from keras.layers.merge import concatenate\n",
        "from tensorflow.keras.wrappers.scikit_learn import KerasRegressor\n",
        "import random\n",
        "from sklearn.metrics import mean_absolute_error"
      ],
      "execution_count": null,
      "outputs": []
    },
    {
      "cell_type": "code",
      "metadata": {
        "colab": {
          "background_save": true
        },
        "id": "0azX5X80_Bw7"
      },
      "source": [
        ""
      ],
      "execution_count": null,
      "outputs": []
    },
    {
      "cell_type": "code",
      "metadata": {
        "colab": {
          "background_save": true
        },
        "id": "6-0Wv31UqMbO"
      },
      "source": [
        "#MAE\n",
        "predicted_value=cnn_model.predict(X_test)[0]\n",
        "mean_absolute_error(y_test[0],predicted_value)"
      ],
      "execution_count": null,
      "outputs": []
    },
    {
      "cell_type": "code",
      "metadata": {
        "colab": {
          "background_save": true
        },
        "id": "hNjh7L4iq2Ua"
      },
      "source": [
        "2#GRU model\n",
        "gru_model = Sequential([\n",
        "                        GRU(128,  input_shape=(n_timesteps,n_features)),\n",
        "                        Dense(128, activation='relu'),\n",
        "                        Dropout(0.3),\n",
        "                        Dense(n_outputs, activation='relu')\n",
        "])\n",
        "\n",
        "gru_model.compile(optimizer='adam', loss='mse', metrics=['accuracy'])\n",
        "gru_model.summary()"
      ],
      "execution_count": null,
      "outputs": []
    },
    {
      "cell_type": "code",
      "metadata": {
        "colab": {
          "background_save": true
        },
        "id": "D09vnxGVrriP"
      },
      "source": [
        "gru_model_history = gru_model.fit(X_train, y_train, epochs=10, validation_split=0.15, shuffle=True)"
      ],
      "execution_count": null,
      "outputs": []
    },
    {
      "cell_type": "code",
      "metadata": {
        "colab": {
          "background_save": true
        },
        "id": "T748CKsOpQda"
      },
      "source": [
        "# Print confusion matrix for training data\n",
        "y_pred_train = cnn_model.predict(X_train)\n",
        "# Take the class with the highest probability from the train predictions\n",
        "max_y_pred_train = np.argmax(y_pred_train, axis=1)\n",
        "#print(classification_report(trainy, max_y_pred_train))\n",
        "\n",
        "# confusion matrix\n",
        "LABELS = ['WALKING',\n",
        "          'WALKING_UPSTAIRS',\n",
        "          'WALKING_DOWNSTAIRS',\n",
        "          'SITTING',\n",
        "          'STANDING',\n",
        "          'LAYING']\n",
        "y_pred_test = cnn_model.predict(X_test)\n",
        "# Take the class with the highest probability from the test predictions\n",
        "max_y_pred_test = np.argmax(y_pred_test, axis=1)\n",
        "max_y_test = np.argmax(y_test, axis=1)\n",
        "\n",
        "matrix = metrics.confusion_matrix(max_y_test, max_y_pred_test)\n",
        "plt.figure(figsize=(6, 4))\n",
        "sns.heatmap(matrix,\n",
        "            cmap='PuOr',\n",
        "            linecolor='black',\n",
        "            linewidths=1,\n",
        "            xticklabels=LABELS,\n",
        "            yticklabels=LABELS,\n",
        "            annot=True,\n",
        "            fmt='d')\n",
        "plt.title('Confusion Matrix')\n",
        "plt.ylabel('True Label')\n",
        "plt.xlabel('Predicted Label')\n",
        "plt.show()"
      ],
      "execution_count": null,
      "outputs": []
    },
    {
      "cell_type": "code",
      "metadata": {
        "colab": {
          "background_save": true
        },
        "id": "vHthUsPYWeTM"
      },
      "source": [
        "accuracy_score(max_y_test, max_y_pred_test)"
      ],
      "execution_count": null,
      "outputs": []
    },
    {
      "cell_type": "code",
      "metadata": {
        "colab": {
          "background_save": true
        },
        "id": "4cnDoLcPh6ec"
      },
      "source": [
        "#checkpoint = ModelCheckpoint(\"wisdm_weights.h5\", monitor='val_acc', verbose=1, \n",
        " #                            save_best_only=True, save_weights_only=False, mode='auto', period=1)"
      ],
      "execution_count": null,
      "outputs": []
    },
    {
      "cell_type": "code",
      "metadata": {
        "colab": {
          "background_save": true
        },
        "id": "3s1ohd99iCp1"
      },
      "source": [
        "#1-D CNN Model\n",
        "\"\"\"model = Sequential()\n",
        "model.add(Conv1D(filters=64, kernel_size=3, activation='relu', input_shape=(n_timesteps,n_features)))\n",
        "model.add(Conv1D(filters=64, kernel_size=3, activation='relu', padding = 'same'))\n",
        "model.add(Dropout(0.4))\n",
        "model.add(MaxPooling1D(pool_size=2))\n",
        "model.add(Flatten())\n",
        "model.add(Dense(100, activation='relu'))\n",
        "model.add(Dense(n_outputs, activation='softmax'))\"\"\""
      ],
      "execution_count": null,
      "outputs": []
    },
    {
      "cell_type": "code",
      "metadata": {
        "colab": {
          "background_save": true
        },
        "id": "EqaufZfviG3s"
      },
      "source": [
        "# Load Weights\n",
        "final_model = Model(inputs = model.input, outputs = model.output)\n",
        "#final_model.load_weights('./har_weights.h5')\n",
        "final_model.compile(loss='categorical_crossentropy', optimizer='adam', metrics=['accuracy'])\n",
        "\n",
        "# fit network\n",
        "history = final_model.fit(X_train, y_train, validation_data=(X_test, y_test), \n",
        "                    epochs=epochs, batch_size=batch_size, callbacks = [checkpoint], verbose=verbose)\n",
        "\n",
        "\n",
        "# evaluate model\n",
        "(loss, accuracy) = final_model.evaluate(X_test, y_test, batch_size=batch_size, verbose=verbose)\n",
        "print(\"[INFO] loss={:.4f}, accuracy: {:.4f}%\".format(loss, accuracy * 100))"
      ],
      "execution_count": null,
      "outputs": []
    },
    {
      "cell_type": "code",
      "metadata": {
        "colab": {
          "background_save": true
        },
        "id": "m8GmO-NDlODU"
      },
      "source": [
        "# Print confusion matrix for training data\n",
        "y_pred_train = final_model.predict(X_train)\n",
        "# Take the class with the highest probability from the train predictions\n",
        "max_y_pred_train = np.argmax(y_pred_train, axis=1)\n",
        "#print(classification_report(trainy, max_y_pred_train))\n",
        "\n",
        "# confusion matrix\n",
        "LABELS = ['WALKING',\n",
        "          'WALKING_UPSTAIRS',\n",
        "          'WALKING_DOWNSTAIRS',\n",
        "          'SITTING',\n",
        "          'STANDING',\n",
        "          'LAYING']\n",
        "y_pred_test = final_model.predict(X_test)\n",
        "# Take the class with the highest probability from the test predictions\n",
        "max_y_pred_test = np.argmax(y_pred_test, axis=1)\n",
        "max_y_test = np.argmax(y_test, axis=1)\n",
        "\n",
        "matrix = metrics.confusion_matrix(max_y_test, max_y_pred_test)\n",
        "plt.figure(figsize=(6, 4))\n",
        "sns.heatmap(matrix,\n",
        "            cmap='PuOr',\n",
        "            linecolor='black',\n",
        "            linewidths=1,\n",
        "            xticklabels=LABELS,\n",
        "            yticklabels=LABELS,\n",
        "            annot=True,\n",
        "            fmt='d')\n",
        "plt.title('Confusion Matrix')\n",
        "plt.ylabel('True Label')\n",
        "plt.xlabel('Predicted Label')\n",
        "plt.show()"
      ],
      "execution_count": null,
      "outputs": []
    },
    {
      "cell_type": "code",
      "metadata": {
        "colab": {
          "background_save": true
        },
        "id": "ZdvUl8FR2hfV"
      },
      "source": [
        "lstm_model =  Sequential([\n",
        "                        LSTM(256, input_shape=(n_timesteps,n_features)),\n",
        "  Dense(128, activation='relu'),\n",
        "  Dropout(0.2),\n",
        "  Dense(128, activation='relu'),\n",
        "  Dropout(0.3),\n",
        "  Dense(n_outputs, activation='relu')\n",
        "])\n",
        "\n",
        "lstm_model.compile(optimizer='adam', loss='mse',metrics=['accuracy'])\n",
        "lstm_model.summary()"
      ],
      "execution_count": null,
      "outputs": []
    },
    {
      "cell_type": "code",
      "metadata": {
        "colab": {
          "background_save": true
        },
        "id": "smZMOaO_2uj3"
      },
      "source": [
        "lstm_model_history = lstm_model.fit(X_train, y_train, epochs=10, validation_split=0.15, shuffle=True)"
      ],
      "execution_count": null,
      "outputs": []
    }
  ]
}