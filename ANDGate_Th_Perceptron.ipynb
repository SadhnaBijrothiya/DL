{
  "nbformat": 4,
  "nbformat_minor": 0,
  "metadata": {
    "colab": {
      "name": "ANDGate_Th_Perceptron.ipynb",
      "provenance": [],
      "collapsed_sections": [],
      "authorship_tag": "ABX9TyNNBMIKz9w2SwJoNAzcME3P",
      "include_colab_link": true
    },
    "kernelspec": {
      "name": "python3",
      "display_name": "Python 3"
    },
    "language_info": {
      "name": "python"
    }
  },
  "cells": [
    {
      "cell_type": "markdown",
      "metadata": {
        "id": "view-in-github",
        "colab_type": "text"
      },
      "source": [
        "<a href=\"https://colab.research.google.com/github/SadhnaBijrothiya/DL/blob/main/ANDGate_Th_Perceptron.ipynb\" target=\"_parent\"><img src=\"https://colab.research.google.com/assets/colab-badge.svg\" alt=\"Open In Colab\"/></a>"
      ]
    },
    {
      "cell_type": "markdown",
      "metadata": {
        "id": "xbY3a37kU02v"
      },
      "source": [
        "\"\"\"Implementing AND Gate through perceptron\"\"\""
      ]
    },
    {
      "cell_type": "code",
      "metadata": {
        "id": "WcYMP55QU4sH"
      },
      "source": [
        "import numpy as np\n",
        "import matplotlib.pyplot as plt"
      ],
      "execution_count": 11,
      "outputs": []
    },
    {
      "cell_type": "markdown",
      "metadata": {
        "id": "cOgk2ekQVJkT"
      },
      "source": [
        "Define unit step function"
      ]
    },
    {
      "cell_type": "code",
      "metadata": {
        "id": "kXLhvXTIVEtg"
      },
      "source": [
        "def UnitStep(v):\n",
        "    if v > 0:\n",
        "        return 1\n",
        "    else:\n",
        "        return 0"
      ],
      "execution_count": 12,
      "outputs": []
    },
    {
      "cell_type": "code",
      "metadata": {
        "id": "q2THRnDkVSRH"
      },
      "source": [
        "# Design Perceptron Model\n",
        "def PerceptronModel(x,w,b):\n",
        "    v = np.dot(w,x) + b\n",
        "    y = UnitStep(v)\n",
        "    return y"
      ],
      "execution_count": 18,
      "outputs": []
    },
    {
      "cell_type": "code",
      "metadata": {
        "id": "tLhjdHM_VXAu"
      },
      "source": [
        "# AND Logic Function\n",
        "# w1 = 1, w2 = 1 and b = -1\n",
        "def AND_logic(x):\n",
        "    w = np.array([1,1])\n",
        "    b = -1\n",
        "    return PerceptronModel(x,w,b)"
      ],
      "execution_count": 19,
      "outputs": []
    },
    {
      "cell_type": "code",
      "metadata": {
        "id": "-er3_SJ3Vdpe"
      },
      "source": [
        "# Perceptron model\n",
        "test1 = np.array([0,0])\n",
        "test2 = np.array([0,1])\n",
        "test3 = np.array([1,0])\n",
        "test4 = np.array([1,1])"
      ],
      "execution_count": 15,
      "outputs": []
    },
    {
      "cell_type": "code",
      "metadata": {
        "colab": {
          "base_uri": "https://localhost:8080/"
        },
        "id": "Kk-dfZZtVjWV",
        "outputId": "b77f6079-607a-4868-b011-f1b53a8ffff9"
      },
      "source": [
        "print(\"AND({} , {} ) = {}\".format(0,0, AND_logic(test1)))\n",
        "print(\"AND({} , {} ) = {}\".format(0,1, AND_logic(test2)))\n",
        "print(\"AND({} , {} ) = {}\".format(1,0, AND_logic(test3)))\n",
        "print(\"AND({} , {} ) = {}\".format(1,1, AND_logic(test4)))"
      ],
      "execution_count": 16,
      "outputs": [
        {
          "output_type": "stream",
          "text": [
            "AND(0 , 0 ) = 0\n",
            "AND(0 , 1 ) = 0\n",
            "AND(1 , 0 ) = 0\n",
            "AND(1 , 1 ) = 1\n"
          ],
          "name": "stdout"
        }
      ]
    },
    {
      "cell_type": "code",
      "metadata": {
        "colab": {
          "base_uri": "https://localhost:8080/",
          "height": 283
        },
        "id": "cfFkAgnIVnw9",
        "outputId": "b41cab9f-9099-40e6-d223-8df3768ab914"
      },
      "source": [
        "# Plotting the perceptron\n",
        "fig, ax = plt.subplots()\n",
        "X = np.arange(-0.2, 1.4, 0.1)\n",
        "ax.scatter(0,0,color = \"red\")\n",
        "ax.scatter(0,1,color = \"red\")\n",
        "ax.scatter(1,0,color = \"red\")\n",
        "ax.scatter(1,1,color = \"green\")\n",
        "ax.set_xlim([-0.2, 1.4])\n",
        "ax.set_ylim([-0.1 , 1.1])\n",
        "m = -1\n",
        "c = 1.2\n",
        "ax.plot(X, m * X + c)\n",
        "plt.plot()"
      ],
      "execution_count": 17,
      "outputs": [
        {
          "output_type": "execute_result",
          "data": {
            "text/plain": [
              "[]"
            ]
          },
          "metadata": {
            "tags": []
          },
          "execution_count": 17
        },
        {
          "output_type": "display_data",
          "data": {
            "image/png": "[encoded data removed]",
            "text/plain": [
              "<Figure size 432x288 with 1 Axes>"
            ]
          },
          "metadata": {
            "tags": [],
            "needs_background": "light"
          }
        }
      ]
    }
  ]
}