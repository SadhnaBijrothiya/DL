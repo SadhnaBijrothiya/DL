{
  "nbformat": 4,
  "nbformat_minor": 0,
  "metadata": {
    "colab": {
      "name": "UCI-HAR.ipynb",
      "provenance": [],
      "collapsed_sections": [],
      "include_colab_link": true
    },
    "kernelspec": {
      "display_name": "Python 3",
      "name": "python3"
    },
    "language_info": {
      "name": "python"
    },
    "accelerator": "GPU"
  },
  "cells": [
    {
      "cell_type": "markdown",
      "metadata": {
        "id": "view-in-github",
        "colab_type": "text"
      },
      "source": [
        "<a href=\"https://colab.research.google.com/github/SadhnaBijrothiya/DL/blob/main/UCI_HAR.ipynb\" target=\"_parent\"><img src=\"https://colab.research.google.com/assets/colab-badge.svg\" alt=\"Open In Colab\"/></a>"
      ]
    },
    {
      "cell_type": "code",
      "metadata": {
        "id": "_QL2Wed_6bUx"
      },
      "source": [
        "import numpy as np\n",
        "import pandas as pd\n",
        "from sklearn.metrics import confusion_matrix\n",
        "import tensorflow as tf"
      ],
      "execution_count": null,
      "outputs": []
    },
    {
      "cell_type": "code",
      "metadata": {
        "id": "Xo0wdTLg_LyD"
      },
      "source": [
        "np.random.seed(42)\n",
        "tf.random.set_seed(42)"
      ],
      "execution_count": null,
      "outputs": []
    },
    {
      "cell_type": "code",
      "metadata": {
        "id": "mDIcYqLj_Vho"
      },
      "source": [
        "# Importing libraries\n",
        "from keras import backend as K\n",
        "from keras.models import Sequential\n",
        "from keras.layers import LSTM, TimeDistributed, Conv1D, MaxPooling1D, Flatten,Bidirectional\n",
        "from keras.layers.core import Dense, Dropout"
      ],
      "execution_count": null,
      "outputs": []
    },
    {
      "cell_type": "code",
      "metadata": {
        "colab": {
          "base_uri": "https://localhost:8080/"
        },
        "id": "vZzF6RVY6hgt",
        "outputId": "f01e4a57-82ee-4ffb-8a1f-c18cc4b0fb79"
      },
      "source": [
        "from google.colab import drive\n",
        "\n",
        "drive.mount('/content/drive')"
      ],
      "execution_count": null,
      "outputs": [
        {
          "output_type": "stream",
          "name": "stdout",
          "text": [
            "Mounted at /content/drive\n"
          ]
        }
      ]
    },
    {
      "cell_type": "code",
      "metadata": {
        "id": "2WzbBkKC-mBs"
      },
      "source": [
        "# Data directory\n",
        "DATADIR = '/content/drive/MyDrive/UCI HAR Dataset'"
      ],
      "execution_count": null,
      "outputs": []
    },
    {
      "cell_type": "code",
      "metadata": {
        "id": "SvHLq4OF-oZS"
      },
      "source": [
        "# Raw data signals\n",
        "# Signals are from Accelerometer and Gyroscope\n",
        "# The signals are in x,y,z directions\n",
        "# Sensor signals are filtered to have only body acceleration\n",
        "# excluding the acceleration due to gravity\n",
        "# Triaxial acceleration from the accelerometer is total acceleration\n",
        "SIGNALS = [\n",
        "    \"body_acc_x\",\n",
        "    \"body_acc_y\",\n",
        "    \"body_acc_z\",\n",
        "    \"body_gyro_x\",\n",
        "    \"body_gyro_y\",\n",
        "    \"body_gyro_z\",\n",
        "    \"total_acc_x\",\n",
        "    \"total_acc_y\",\n",
        "    \"total_acc_z\"\n",
        "]"
      ],
      "execution_count": null,
      "outputs": []
    },
    {
      "cell_type": "code",
      "metadata": {
        "id": "M7qHxdxc-v7B"
      },
      "source": [
        "# Utility function to read the data from csv file\n",
        "def _read_csv(filename):\n",
        "    return pd.read_csv(filename, delim_whitespace=True, header=None)\n",
        "\n",
        "# Utility function to load the load\n",
        "def load_signals(subset):\n",
        "    signals_data = []\n",
        "\n",
        "    for signal in SIGNALS:\n",
        "        filename = f'{DATADIR}/{subset}/Inertial Signals/{signal}_{subset}.txt'\n",
        "        signals_data.append(\n",
        "            _read_csv(filename).to_numpy()\n",
        "        ) \n",
        "\n",
        "    # Transpose is used to change the dimensionality of the output,\n",
        "    # aggregating the signals by combination of sample/timestep.\n",
        "    # Resultant shape is (7352 train/2947 test samples, 128 timesteps, 9 signals)\n",
        "    return np.transpose(signals_data, (1, 2, 0))"
      ],
      "execution_count": null,
      "outputs": []
    },
    {
      "cell_type": "code",
      "metadata": {
        "id": "Z2EHvzvo-0XE"
      },
      "source": [
        "def load_y(subset):\n",
        "    \"\"\"\n",
        "    The objective that we are trying to predict is a integer, from 1 to 6,\n",
        "    that represents a human activity. We return a binary representation of \n",
        "    every sample objective as a 6 bits vector using One Hot Encoding\n",
        "    (https://pandas.pydata.org/pandas-docs/stable/generated/pandas.get_dummies.html)\n",
        "    \"\"\"\n",
        "    filename = f'{DATADIR}/{subset}/y_{subset}.txt'\n",
        "    y = _read_csv(filename)[0]\n",
        "\n",
        "    return pd.get_dummies(y).to_numpy()"
      ],
      "execution_count": null,
      "outputs": []
    },
    {
      "cell_type": "code",
      "metadata": {
        "id": "bIBrkcDS-4n_"
      },
      "source": [
        "def load_data():\n",
        "    \"\"\"\n",
        "    Obtain the dataset from multiple files.\n",
        "    Returns: X_train, X_test, y_train, y_test\n",
        "    \"\"\"\n",
        "    X_train, X_test = load_signals('train'), load_signals('test')\n",
        "    y_train, y_test = load_y('train'), load_y('test')\n",
        "    \n",
        "\n",
        "    return X_train, X_test, y_train, y_test"
      ],
      "execution_count": null,
      "outputs": []
    },
    {
      "cell_type": "code",
      "metadata": {
        "id": "aCpldxvK-937"
      },
      "source": [
        "# Configuring a session\n",
        "session_conf = tf.compat.v1.ConfigProto(\n",
        "    intra_op_parallelism_threads=1,\n",
        "    inter_op_parallelism_threads=1\n",
        ")\n",
        "\n",
        "sess = tf.compat.v1.Session(graph=tf.compat.v1.get_default_graph(), config=session_conf)\n",
        "K.set_session(sess)"
      ],
      "execution_count": null,
      "outputs": []
    },
    {
      "cell_type": "code",
      "metadata": {
        "id": "rETb0yBcALwv"
      },
      "source": [
        "# Initializing parameters\n",
        "epochs = 10\n",
        "batch_size = 32\n",
        "n_hidden = 32"
      ],
      "execution_count": null,
      "outputs": []
    },
    {
      "cell_type": "code",
      "metadata": {
        "id": "VbYXB389AWty"
      },
      "source": [
        "# Utility function to count the number of classes\n",
        "def _count_classes(y):\n",
        "    return len(set([tuple(category) for category in y]))"
      ],
      "execution_count": null,
      "outputs": []
    },
    {
      "cell_type": "code",
      "metadata": {
        "id": "ttIEHutJAa0n"
      },
      "source": [
        "# Loading the train and test data\n",
        "X_train, X_test, Y_train, Y_test = load_data()"
      ],
      "execution_count": null,
      "outputs": []
    },
    {
      "cell_type": "code",
      "metadata": {
        "colab": {
          "base_uri": "https://localhost:8080/"
        },
        "id": "QgGiX8BX-1vl",
        "outputId": "96fa58c8-01c2-4676-8461-4b2919c7d0a8"
      },
      "source": [
        "timesteps = len(X_train[0])\n",
        "input_dim = len(X_train[0][0])\n",
        "n_classes = _count_classes(Y_train)\n",
        "\n",
        "print(timesteps)\n",
        "print(input_dim)\n",
        "print(len(X_train))"
      ],
      "execution_count": null,
      "outputs": [
        {
          "output_type": "stream",
          "name": "stdout",
          "text": [
            "128\n",
            "9\n",
            "7352\n"
          ]
        }
      ]
    },
    {
      "cell_type": "code",
      "metadata": {
        "colab": {
          "base_uri": "https://localhost:8080/"
        },
        "id": "oEU3iBDU-6np",
        "outputId": "5a213498-9f0c-4b45-bbc9-73ccd16bb374"
      },
      "source": [
        "Y_train.shape"
      ],
      "execution_count": null,
      "outputs": [
        {
          "output_type": "execute_result",
          "data": {
            "text/plain": [
              "(7352, 6)"
            ]
          },
          "metadata": {},
          "execution_count": 15
        }
      ]
    },
    {
      "cell_type": "code",
      "source": [
        "input_sample_size = X_train.shape[1:]"
      ],
      "metadata": {
        "id": "DZiymPmZqW8H"
      },
      "execution_count": null,
      "outputs": []
    },
    {
      "cell_type": "code",
      "metadata": {
        "id": "p8fJ2WVG1L6o"
      },
      "source": [
        "import matplotlib.pyplot as plt\n",
        " \n",
        "# x-coordinates of left sides of bars\n",
        "left = [1, 2, 3, 4, 5]\n",
        " \n",
        "# heights of bars\n",
        "height = [10, 24, 36, 40, 5]\n",
        " \n",
        "# labels for bars\n",
        "tick_label = ['one', 'two', 'three', 'four', 'five']\n",
        " \n",
        "# plotting a bar chart\n",
        "plt.bar(left, height, tick_label = tick_label,\n",
        "        width = 0.8, color = ['blue'])\n",
        " \n",
        "# naming the x-axis\n",
        "plt.xlabel('x - axis')\n",
        "# naming the y-axis\n",
        "plt.ylabel('y - axis')\n",
        "# plot title\n",
        "plt.title('My bar chart!')\n",
        " \n",
        "# function to show the plot\n",
        "plt.show()"
      ],
      "execution_count": null,
      "outputs": []
    },
    {
      "cell_type": "code",
      "metadata": {
        "id": "GYd_mqOYW7Eo"
      },
      "source": [
        "import matplotlib.style as style \n",
        "style.available"
      ],
      "execution_count": null,
      "outputs": []
    },
    {
      "cell_type": "code",
      "metadata": {
        "id": "So5Ob2Oi20zi"
      },
      "source": [
        "import matplotlib.pyplot as plt\n",
        "\n",
        "fig, ax = plt.subplots()\n",
        "\n",
        "bar_x = [1,2,3,4,5,6]\n",
        "bar_height = [424397,342176,122869,100427,59939,48395]\n",
        "bar_tick_label = ['Walking','Jogging','Upstairs','Downstairs','Sitting','Standing']\n",
        "bar_label = ['38.6%','31.2%','11.2%','9.1%','5.5%','4.4%']\n",
        "\n",
        "bar_plot = plt.bar(bar_x,bar_height,tick_label=bar_tick_label,width=0.6,color=['royalblue','#F97306','#15B01A','#A52A2A','#800080','#653700'] )\n",
        "\n",
        "def autolabel(rects):\n",
        "    for idx,rect in enumerate(bar_plot):\n",
        "        height = rect.get_height()\n",
        "        ax.text(rect.get_x() + rect.get_width()/2., 1.05*height,\n",
        "                bar_label[idx],\n",
        "                ha='center', va='bottom', rotation=0)\n",
        "\n",
        "autolabel(bar_plot)\n",
        "\n",
        "plt.xticks(rotation=45)\n",
        "\n",
        "plt.ylim(0,500000)\n",
        "\n",
        "plt.title('Training examples by activity type')\n",
        "\n",
        "plt.savefig(\"WISDM_ACTIVITY.png\", bbox_inches='tight')\n",
        "plt.show()"
      ],
      "execution_count": null,
      "outputs": []
    },
    {
      "cell_type": "code",
      "source": [
        "import pandas as pd\n",
        "import numpy as np\n",
        "import matplotlib.pyplot as plt\n",
        "import seaborn as sns\n",
        "from scipy import stats\n",
        "from sklearn import metrics\n",
        "from sklearn.model_selection import train_test_split\n",
        "from keras.models import Sequential, Model\n",
        "from keras.layers import Dense\n",
        "from keras.layers import Flatten\n",
        "from keras.layers import Dropout\n",
        "from keras.callbacks import ModelCheckpoint\n",
        "from keras.layers.convolutional import Conv1D\n",
        "from keras.layers.convolutional import MaxPooling1D\n",
        "RANDOM_SEED=42\n",
        "#Importing libraries\n",
        "import sys \n",
        "import numpy\n",
        "import xlrd #excel read\n",
        "import os\n",
        "import io\n",
        "import math\n",
        "from sklearn import preprocessing\n",
        "from sklearn.preprocessing import MinMaxScaler, StandardScaler\n",
        "from sklearn.ensemble import AdaBoostRegressor, RandomForestRegressor\n",
        "from scipy.signal import savgol_filter\n",
        "from scipy import signal\n",
        "from scipy.spatial import distance\n",
        "from sklearn.model_selection import train_test_split\n",
        " \n",
        "from tensorflow import keras, convert_to_tensor, float32, make_ndarray\n",
        "from tensorflow.compat.v1 import Session\n",
        "from tensorflow.keras import layers, backend\n",
        "from tensorflow.keras.utils import plot_model\n",
        "from tensorflow.keras.models import Sequential, Model\n",
        "from tensorflow.keras.layers import Dense, Flatten, Input, GlobalAveragePooling1D, Dropout\n",
        "from tensorflow.keras.layers import LSTM, GRU, Conv1D, MaxPooling1D, MaxPool1D, TimeDistributed, RepeatVector, Conv2D\n",
        "from keras.layers.merge import concatenate\n",
        "from tensorflow.keras.wrappers.scikit_learn import KerasRegressor\n",
        "import random\n",
        "from sklearn.metrics import mean_absolute_error\n",
        "import tensorflow as tf\n",
        "from tensorflow.keras import Sequential\n",
        "from tensorflow.keras.layers import Flatten, Dense, Dropout, BatchNormalization\n",
        "from tensorflow.keras.layers import Conv2D, MaxPool2D, MaxPool1D, Bidirectional\n",
        "from tensorflow.keras.optimizers import Adam, RMSprop\n",
        "print(tf.__version__)"
      ],
      "metadata": {
        "colab": {
          "base_uri": "https://localhost:8080/"
        },
        "id": "zJ4Xa2QBqt4b",
        "outputId": "cb7063c3-c9e5-47de-bce9-72f2b0fafe7f"
      },
      "execution_count": null,
      "outputs": [
        {
          "output_type": "stream",
          "name": "stdout",
          "text": [
            "2.7.0\n"
          ]
        }
      ]
    },
    {
      "cell_type": "code",
      "source": [
        "#CNN_LSTM model\n",
        "CNN_LSTM_model = Sequential([\n",
        "                        Conv1D(64,3, activation='relu', input_shape=input_sample_size),\n",
        "                        Conv1D(64,3, activation='relu'),\n",
        "                        MaxPooling1D(),\n",
        "                        Dropout(0.1),\n",
        "                        LSTM(64, activation='relu', return_sequences= True),\n",
        "                        LSTM(64, activation='relu', return_sequences= True),\n",
        "                        Dense(128, activation='relu'),\n",
        "                        Dropout(0.3),                        \n",
        "                        Flatten(),                        \n",
        "])"
      ],
      "metadata": {
        "colab": {
          "base_uri": "https://localhost:8080/"
        },
        "id": "s4-XAKMKpoxm",
        "outputId": "f92048cd-9d6b-4dee-88da-5837c15e6e2e"
      },
      "execution_count": null,
      "outputs": [
        {
          "output_type": "stream",
          "name": "stdout",
          "text": [
            "WARNING:tensorflow:Layer lstm will not use cuDNN kernels since it doesn't meet the criteria. It will use a generic GPU kernel as fallback when running on GPU.\n",
            "WARNING:tensorflow:Layer lstm_1 will not use cuDNN kernels since it doesn't meet the criteria. It will use a generic GPU kernel as fallback when running on GPU.\n"
          ]
        }
      ]
    },
    {
      "cell_type": "code",
      "source": [
        "#LSTM_CNN model\n",
        "LSTM_CNN_model = Sequential([\n",
        "                        LSTM(64, activation='relu', input_shape=input_sample_size, return_sequences= True),\n",
        "                        LSTM(64, activation='relu', return_sequences= True),\n",
        "                        MaxPooling1D(),\n",
        "                        Dropout(0.1),\n",
        "                        Conv1D(64,3, activation='relu'),\n",
        "                        Conv1D(64,3, activation='relu'),\n",
        "                        Dense(128, activation='relu'),\n",
        "                        Dropout(0.3),\n",
        "                        Flatten()\n",
        "])"
      ],
      "metadata": {
        "colab": {
          "base_uri": "https://localhost:8080/"
        },
        "id": "Y9vmFgF_pp5P",
        "outputId": "a9f10708-cc22-45a6-a2ee-9dee1b956a33"
      },
      "execution_count": null,
      "outputs": [
        {
          "output_type": "stream",
          "name": "stdout",
          "text": [
            "WARNING:tensorflow:Layer lstm_2 will not use cuDNN kernels since it doesn't meet the criteria. It will use a generic GPU kernel as fallback when running on GPU.\n",
            "WARNING:tensorflow:Layer lstm_3 will not use cuDNN kernels since it doesn't meet the criteria. It will use a generic GPU kernel as fallback when running on GPU.\n"
          ]
        }
      ]
    },
    {
      "cell_type": "code",
      "source": [
        "input_1 = Input(shape=input_sample_size)\n",
        "x1 = CNN_LSTM_model(input_1)\n",
        "x2 = LSTM_CNN_model(input_1)\n",
        "x = concatenate([x1,x2])"
      ],
      "metadata": {
        "id": "ZIxEm2QgpsHQ"
      },
      "execution_count": null,
      "outputs": []
    },
    {
      "cell_type": "code",
      "source": [
        "#CNN_BiLSTM model\n",
        "CNN_BiLSTM_model = Sequential([\n",
        "                        Conv1D(64,3, activation='relu', input_shape=input_sample_size),\n",
        "                        Conv1D(64,3, activation='relu'),\n",
        "                        MaxPooling1D(),\n",
        "                        Dropout(0.1),\n",
        "                        Bidirectional(LSTM(64, activation='relu', return_sequences= True)),\n",
        "                        Bidirectional(LSTM(64, activation='relu', return_sequences= True)),\n",
        "                        Dense(128, activation='relu'),\n",
        "                        Dropout(0.3),                        \n",
        "                        Flatten(),                        \n",
        "])"
      ],
      "metadata": {
        "colab": {
          "base_uri": "https://localhost:8080/"
        },
        "id": "QTNINuTwpvts",
        "outputId": "326f031d-4187-4c62-e45a-a2df6c49c284"
      },
      "execution_count": null,
      "outputs": [
        {
          "output_type": "stream",
          "name": "stdout",
          "text": [
            "WARNING:tensorflow:Layer lstm_4 will not use cuDNN kernels since it doesn't meet the criteria. It will use a generic GPU kernel as fallback when running on GPU.\n",
            "WARNING:tensorflow:Layer lstm_4 will not use cuDNN kernels since it doesn't meet the criteria. It will use a generic GPU kernel as fallback when running on GPU.\n",
            "WARNING:tensorflow:Layer lstm_4 will not use cuDNN kernels since it doesn't meet the criteria. It will use a generic GPU kernel as fallback when running on GPU.\n",
            "WARNING:tensorflow:Layer lstm_5 will not use cuDNN kernels since it doesn't meet the criteria. It will use a generic GPU kernel as fallback when running on GPU.\n",
            "WARNING:tensorflow:Layer lstm_5 will not use cuDNN kernels since it doesn't meet the criteria. It will use a generic GPU kernel as fallback when running on GPU.\n",
            "WARNING:tensorflow:Layer lstm_5 will not use cuDNN kernels since it doesn't meet the criteria. It will use a generic GPU kernel as fallback when running on GPU.\n"
          ]
        }
      ]
    },
    {
      "cell_type": "code",
      "source": [
        "#BiLSTM_CNN model\n",
        "BiLSTM_CNN_model = Sequential([\n",
        "                        Bidirectional(LSTM(64, activation='relu', input_shape=input_sample_size, return_sequences= True)),\n",
        "                        Bidirectional(LSTM(64, activation='relu', return_sequences= True)),\n",
        "                        MaxPooling1D(),\n",
        "                        Dropout(0.1),\n",
        "                        Conv1D(64,3, activation='relu'),\n",
        "                        Conv1D(64,3, activation='relu'),\n",
        "                        Dense(128, activation='relu'),\n",
        "                        Dropout(0.3),\n",
        "                        Flatten()\n",
        "])"
      ],
      "metadata": {
        "colab": {
          "base_uri": "https://localhost:8080/"
        },
        "id": "5Z1YAZVtpx1Z",
        "outputId": "a75e8348-6d84-4243-f2f5-d7fb0a2b0269"
      },
      "execution_count": null,
      "outputs": [
        {
          "output_type": "stream",
          "name": "stdout",
          "text": [
            "WARNING:tensorflow:Layer lstm_6 will not use cuDNN kernels since it doesn't meet the criteria. It will use a generic GPU kernel as fallback when running on GPU.\n",
            "WARNING:tensorflow:Layer lstm_6 will not use cuDNN kernels since it doesn't meet the criteria. It will use a generic GPU kernel as fallback when running on GPU.\n",
            "WARNING:tensorflow:Layer lstm_6 will not use cuDNN kernels since it doesn't meet the criteria. It will use a generic GPU kernel as fallback when running on GPU.\n",
            "WARNING:tensorflow:Layer lstm_7 will not use cuDNN kernels since it doesn't meet the criteria. It will use a generic GPU kernel as fallback when running on GPU.\n",
            "WARNING:tensorflow:Layer lstm_7 will not use cuDNN kernels since it doesn't meet the criteria. It will use a generic GPU kernel as fallback when running on GPU.\n",
            "WARNING:tensorflow:Layer lstm_7 will not use cuDNN kernels since it doesn't meet the criteria. It will use a generic GPU kernel as fallback when running on GPU.\n"
          ]
        }
      ]
    },
    {
      "cell_type": "code",
      "source": [
        "input_2 = Input(shape=input_sample_size)\n",
        "y1 = CNN_BiLSTM_model(input_2)\n",
        "y2 = BiLSTM_CNN_model(input_2)\n",
        "y = concatenate([y1,y2])"
      ],
      "metadata": {
        "id": "fRlq7W-Op0HN"
      },
      "execution_count": null,
      "outputs": []
    },
    {
      "cell_type": "code",
      "source": [
        "z = concatenate([x,y])\n",
        "z = Dense(128, activation='relu')(z)\n",
        "z = Dropout(0.3)(z)\n",
        "output = Dense(6, activation='softmax')(z)"
      ],
      "metadata": {
        "id": "qVOePAhYp2Ev"
      },
      "execution_count": null,
      "outputs": []
    },
    {
      "cell_type": "code",
      "source": [
        "model = Model([input_1,input_2], output)"
      ],
      "metadata": {
        "id": "6oFek9Kwp5N6"
      },
      "execution_count": null,
      "outputs": []
    },
    {
      "cell_type": "code",
      "source": [
        ""
      ],
      "metadata": {
        "id": "DHapRsFop7Pm"
      },
      "execution_count": null,
      "outputs": []
    },
    {
      "cell_type": "code",
      "metadata": {
        "id": "088QHvpSZM9E"
      },
      "source": [
        "#Bi-LSTM-CNN\n",
        "from tensorflow.keras.layers import LSTM, GRU, Conv1D , Bidirectional,RNN, BatchNormalization\n",
        "model1=Sequential()\n",
        "model1.add(Bidirectional(GRU(64, input_shape=(None,timesteps,input_dim) ,return_sequences=True)))\n",
        "model1.add(Bidirectional(GRU(64 ,return_sequences=True)))\n",
        "\n",
        "model1.add(MaxPooling1D())\n",
        "model1.add(Dropout(0.1))\n",
        "model1.add(Conv1D(64,3, activation='relu'))\n",
        "model1.add(Conv1D(32,3, activation='relu'))\n",
        "model1.add(Dropout(0.5))\n",
        "model1.add(Flatten())\n",
        "model1.add(Dense(128, activation='relu'))\n",
        "#model1.add(BatchNormalization())\n",
        "model1.add(Dense(6, activation='softmax'))"
      ],
      "execution_count": null,
      "outputs": []
    },
    {
      "cell_type": "code",
      "metadata": {
        "id": "rjemin52BXet",
        "colab": {
          "base_uri": "https://localhost:8080/"
        },
        "outputId": "e0e94871-8d1b-4912-d194-b3190f2165b3"
      },
      "source": [
        "model1.summary()"
      ],
      "execution_count": null,
      "outputs": [
        {
          "output_type": "stream",
          "name": "stdout",
          "text": [
            "Model: \"sequential\"\n",
            "_________________________________________________________________\n",
            "Layer (type)                 Output Shape              Param #   \n",
            "=================================================================\n",
            "bidirectional (Bidirectional (None, 128, 128)          37888     \n",
            "_________________________________________________________________\n",
            "bidirectional_1 (Bidirection (None, 128, 128)          98816     \n",
            "_________________________________________________________________\n",
            "max_pooling1d (MaxPooling1D) (None, 64, 128)           0         \n",
            "_________________________________________________________________\n",
            "dropout (Dropout)            (None, 64, 128)           0         \n",
            "_________________________________________________________________\n",
            "conv1d (Conv1D)              (None, 62, 64)            24640     \n",
            "_________________________________________________________________\n",
            "conv1d_1 (Conv1D)            (None, 60, 32)            6176      \n",
            "_________________________________________________________________\n",
            "dropout_1 (Dropout)          (None, 60, 32)            0         \n",
            "_________________________________________________________________\n",
            "flatten (Flatten)            (None, 1920)              0         \n",
            "_________________________________________________________________\n",
            "dense (Dense)                (None, 128)               245888    \n",
            "_________________________________________________________________\n",
            "dense_1 (Dense)              (None, 6)                 774       \n",
            "=================================================================\n",
            "Total params: 414,182\n",
            "Trainable params: 414,182\n",
            "Non-trainable params: 0\n",
            "_________________________________________________________________\n"
          ]
        }
      ]
    },
    {
      "cell_type": "code",
      "metadata": {
        "id": "njYen7E9dGeN"
      },
      "source": [
        "#Bi-LSTM-CNN\n",
        "from tensorflow.keras.layers import LSTM, GRU, Conv1D , Bidirectional,RNN, BatchNormalization\n",
        "model1=Sequential()\n",
        "model1.add(Bidirectional(GRU(64, input_shape=(None,n_timesteps,n_features) ,return_sequences=True)))\n",
        "model1.add(Bidirectional(GRU(64 ,return_sequences=True)))\n",
        "\n",
        "model1.add(MaxPooling1D())\n",
        "model1.add(Dropout(0.1))\n",
        "model1.add(Conv1D(64,3, activation='relu'))\n",
        "model1.add(Conv1D(32,3, activation='relu'))\n",
        "model1.add(Dropout(0.5))\n",
        "model1.add(Flatten())\n",
        "model1.add(Dense(128, activation='relu'))\n",
        "#model1.add(BatchNormalization())\n",
        "model1.add(Dense(6, activation='softmax'))"
      ],
      "execution_count": null,
      "outputs": []
    },
    {
      "cell_type": "code",
      "metadata": {
        "colab": {
          "base_uri": "https://localhost:8080/",
          "height": 191
        },
        "id": "5ZKKtppUrJ2t",
        "outputId": "984f664d-6d3a-4507-b0f7-4e0684609698"
      },
      "source": [
        "model.compile(optimizer='adam', loss='categorical_crossentropy', metrics=['accuracy'])\n",
        "history = model.fit([X_train,X_train], Y_train, batch_size = 512 , epochs = 250, validation_split=0.1, verbose=1, shuffle = True)"
      ],
      "execution_count": null,
      "outputs": [
        {
          "output_type": "error",
          "ename": "NameError",
          "evalue": "ignored",
          "traceback": [
            "\u001b[0;31m---------------------------------------------------------------------------\u001b[0m",
            "\u001b[0;31mNameError\u001b[0m                                 Traceback (most recent call last)",
            "\u001b[0;32m<ipython-input-1-beffc6fc3b82>\u001b[0m in \u001b[0;36m<module>\u001b[0;34m()\u001b[0m\n\u001b[0;32m----> 1\u001b[0;31m \u001b[0mmodel\u001b[0m\u001b[0;34m.\u001b[0m\u001b[0mcompile\u001b[0m\u001b[0;34m(\u001b[0m\u001b[0moptimizer\u001b[0m\u001b[0;34m=\u001b[0m\u001b[0;34m'adam'\u001b[0m\u001b[0;34m,\u001b[0m \u001b[0mloss\u001b[0m\u001b[0;34m=\u001b[0m\u001b[0;34m'categorical_crossentropy'\u001b[0m\u001b[0;34m,\u001b[0m \u001b[0mmetrics\u001b[0m\u001b[0;34m=\u001b[0m\u001b[0;34m[\u001b[0m\u001b[0;34m'accuracy'\u001b[0m\u001b[0;34m]\u001b[0m\u001b[0;34m)\u001b[0m\u001b[0;34m\u001b[0m\u001b[0;34m\u001b[0m\u001b[0m\n\u001b[0m\u001b[1;32m      2\u001b[0m \u001b[0mhistory\u001b[0m \u001b[0;34m=\u001b[0m \u001b[0mmodel\u001b[0m\u001b[0;34m.\u001b[0m\u001b[0mfit\u001b[0m\u001b[0;34m(\u001b[0m\u001b[0;34m[\u001b[0m\u001b[0mX_train\u001b[0m\u001b[0;34m,\u001b[0m\u001b[0mX_train\u001b[0m\u001b[0;34m]\u001b[0m\u001b[0;34m,\u001b[0m \u001b[0mY_train\u001b[0m\u001b[0;34m,\u001b[0m \u001b[0mbatch_size\u001b[0m \u001b[0;34m=\u001b[0m \u001b[0;36m512\u001b[0m \u001b[0;34m,\u001b[0m \u001b[0mepochs\u001b[0m \u001b[0;34m=\u001b[0m \u001b[0;36m250\u001b[0m\u001b[0;34m,\u001b[0m \u001b[0mvalidation_split\u001b[0m\u001b[0;34m=\u001b[0m\u001b[0;36m0.1\u001b[0m\u001b[0;34m,\u001b[0m \u001b[0mverbose\u001b[0m\u001b[0;34m=\u001b[0m\u001b[0;36m1\u001b[0m\u001b[0;34m,\u001b[0m \u001b[0mshuffle\u001b[0m \u001b[0;34m=\u001b[0m \u001b[0;32mTrue\u001b[0m\u001b[0;34m)\u001b[0m\u001b[0;34m\u001b[0m\u001b[0;34m\u001b[0m\u001b[0m\n",
            "\u001b[0;31mNameError\u001b[0m: name 'model' is not defined"
          ]
        }
      ]
    },
    {
      "cell_type": "code",
      "metadata": {
        "id": "QrluvU3O4hH9"
      },
      "source": [
        "y_pred = model1.predict(X_test)\n",
        "Y_pred = np.argmax(y_pred,axis=1)\n",
        "y_test = np.argmax(Y_test,axis=1)\n",
        "from sklearn.metrics import accuracy_score,confusion_matrix,precision_score,recall_score,f1_score\n",
        "accuracy_score(y_test,Y_pred)"
      ],
      "execution_count": null,
      "outputs": []
    },
    {
      "cell_type": "code",
      "metadata": {
        "id": "KyScqlLH4wiz",
        "colab": {
          "base_uri": "https://localhost:8080/"
        },
        "outputId": "09b8ee2f-ba70-4c48-8b0f-8db7f4b53e6d"
      },
      "source": [
        ""
      ],
      "execution_count": null,
      "outputs": [
        {
          "output_type": "execute_result",
          "data": {
            "text/plain": [
              "0.9297590770274856"
            ]
          },
          "metadata": {},
          "execution_count": 21
        }
      ]
    },
    {
      "cell_type": "code",
      "metadata": {
        "id": "Eh-xkpTu46Tz",
        "colab": {
          "base_uri": "https://localhost:8080/"
        },
        "outputId": "d7e846de-6e71-4eb9-fb71-fbe3e555cdf5"
      },
      "source": [
        "confusion_matrix(y_test,Y_pred)"
      ],
      "execution_count": null,
      "outputs": [
        {
          "output_type": "execute_result",
          "data": {
            "text/plain": [
              "array([[458,  11,  27,   0,   0,   0],\n",
              "       [  4, 449,  18,   0,   0,   0],\n",
              "       [  0,  17, 403,   0,   0,   0],\n",
              "       [  0,   3,   0, 402,  77,   9],\n",
              "       [  0,   2,   0,  39, 491,   0],\n",
              "       [  0,   0,   0,   0,   0, 537]])"
            ]
          },
          "metadata": {},
          "execution_count": 22
        }
      ]
    },
    {
      "cell_type": "code",
      "metadata": {
        "id": "xH7z7in06ysG",
        "colab": {
          "base_uri": "https://localhost:8080/"
        },
        "outputId": "ca2f7942-a3a8-42d8-b55a-965c9b92b6e9"
      },
      "source": [
        "print('Precision: %.3f' % precision_score(y_test, Y_pred,average='macro'))"
      ],
      "execution_count": null,
      "outputs": [
        {
          "output_type": "stream",
          "name": "stdout",
          "text": [
            "Precision: 0.930\n"
          ]
        }
      ]
    },
    {
      "cell_type": "code",
      "metadata": {
        "id": "pqFdgFTQ7Vv8",
        "colab": {
          "base_uri": "https://localhost:8080/"
        },
        "outputId": "873f3322-4eb3-4b7c-ca79-d9d1f2b0f665"
      },
      "source": [
        "print('Recall: %.3f' % recall_score(y_test, Y_pred,average='macro'))"
      ],
      "execution_count": null,
      "outputs": [
        {
          "output_type": "stream",
          "name": "stdout",
          "text": [
            "Recall: 0.924\n"
          ]
        }
      ]
    },
    {
      "cell_type": "code",
      "metadata": {
        "id": "3w7WFUIw7mLu",
        "colab": {
          "base_uri": "https://localhost:8080/"
        },
        "outputId": "b08c7bed-a6da-4380-8f50-692a57e4b341"
      },
      "source": [
        "print('F1_score: %.3f' % f1_score(y_test, Y_pred,average='macro'))"
      ],
      "execution_count": null,
      "outputs": [
        {
          "output_type": "stream",
          "name": "stdout",
          "text": [
            "F1_score: 0.921\n"
          ]
        }
      ]
    },
    {
      "cell_type": "code",
      "metadata": {
        "colab": {
          "base_uri": "https://localhost:8080/",
          "height": 294
        },
        "id": "9-9Zp-1yvx2-",
        "outputId": "8bb96446-509e-4604-cf8f-f4d4bd6c88c0"
      },
      "source": [
        "import matplotlib.pyplot as plt\n",
        "loss_train = history.history['loss']\n",
        "loss_val = history.history['val_loss']\n",
        "epochs = range(0,250)\n",
        "plt.plot(epochs, loss_train, 'g', label='Training loss')\n",
        "plt.plot(epochs, loss_val, 'b', label='validation loss')\n",
        "plt.title('Training and Validation loss')\n",
        "plt.xlabel('Epochs')\n",
        "plt.ylabel('Loss')\n",
        "plt.legend()\n",
        "plt.savefig('loss-epochs.png')\n",
        "plt.show()"
      ],
      "execution_count": null,
      "outputs": [
        {
          "output_type": "display_data",
          "data": {
            "image/png": "[encoded data removed]",
            "text/plain": [
              "<Figure size 432x288 with 1 Axes>"
            ]
          },
          "metadata": {
            "needs_background": "light"
          }
        }
      ]
    },
    {
      "cell_type": "code",
      "metadata": {
        "id": "DyqXWP8J-Pe7"
      },
      "source": [
        ""
      ],
      "execution_count": null,
      "outputs": []
    },
    {
      "cell_type": "code",
      "metadata": {
        "colab": {
          "base_uri": "https://localhost:8080/",
          "height": 34
        },
        "id": "tZHLear6-MQC",
        "outputId": "dcfcc84b-7ca8-4d46-fdf8-c1490d5c626b"
      },
      "source": [
        "plt.savefig('loss-epochs')"
      ],
      "execution_count": null,
      "outputs": [
        {
          "output_type": "display_data",
          "data": {
            "text/plain": [
              "<Figure size 432x288 with 0 Axes>"
            ]
          },
          "metadata": {}
        }
      ]
    },
    {
      "cell_type": "code",
      "metadata": {
        "colab": {
          "base_uri": "https://localhost:8080/",
          "height": 294
        },
        "id": "iXbz58_Gv3AW",
        "outputId": "d98a75dd-f0e7-47d2-aee8-9d8506eebb1f"
      },
      "source": [
        "loss_train =history.history['accuracy']\n",
        "loss_val = history.history['val_accuracy']\n",
        "epochs = range(0,250)\n",
        "plt.plot(epochs, loss_train, 'g', label='Training accuracy')\n",
        "plt.plot(epochs, loss_val, 'b', label='validation accuracy')\n",
        "plt.title('Training and Validation accuracy')\n",
        "plt.xlabel('Epochs')\n",
        "plt.ylabel('Accuracy')\n",
        "plt.legend()\n",
        "plt.savefig('acc-epochs.png')\n",
        "plt.show()"
      ],
      "execution_count": null,
      "outputs": [
        {
          "output_type": "display_data",
          "data": {
            "image/png": "[encoded data removed]",
            "text/plain": [
              "<Figure size 432x288 with 1 Axes>"
            ]
          },
          "metadata": {
            "needs_background": "light"
          }
        }
      ]
    },
    {
      "cell_type": "code",
      "metadata": {
        "colab": {
          "base_uri": "https://localhost:8080/",
          "height": 34
        },
        "id": "vOGoXMwu-CPv",
        "outputId": "eb159acb-8e09-4fef-840d-2241704ad078"
      },
      "source": [
        "plt.savefig('ACC-EPOCHS')"
      ],
      "execution_count": null,
      "outputs": [
        {
          "output_type": "display_data",
          "data": {
            "text/plain": [
              "<Figure size 432x288 with 0 Axes>"
            ]
          },
          "metadata": {}
        }
      ]
    },
    {
      "cell_type": "code",
      "metadata": {
        "id": "dpXU9nLXLXIY"
      },
      "source": [
        "tf.keras.utils.plot_model(cnn_bilstm_model)"
      ],
      "execution_count": null,
      "outputs": []
    },
    {
      "cell_type": "code",
      "metadata": {
        "colab": {
          "base_uri": "https://localhost:8080/"
        },
        "id": "6Fddy7YK833-",
        "outputId": "040c23a6-849d-40a7-9067-23c026deabc9"
      },
      "source": [
        "cnn_model = Sequential([\n",
        "                        Conv1D(128,3, activation='relu', input_shape=(timesteps,input_dim)),\n",
        "                        #MaxPooling1D(pool_size=2),\n",
        "                        #Conv1D(64,3, activation='relu'),\n",
        "                        Flatten(),\n",
        "                        Dropout(0.1),\n",
        "                        Dense(128, activation='relu'),\n",
        "                        Dropout(0.3),\n",
        "                        Dense(n_classes, activation='softmax')\n",
        "])\n",
        "\n",
        "cnn_model.compile(optimizer='RMSprop', loss='categorical_crossentropy', metrics=['accuracy'])\n",
        "cnn_model.summary()"
      ],
      "execution_count": null,
      "outputs": [
        {
          "output_type": "stream",
          "name": "stdout",
          "text": [
            "Model: \"sequential_38\"\n",
            "_________________________________________________________________\n",
            "Layer (type)                 Output Shape              Param #   \n",
            "=================================================================\n",
            "conv1d_72 (Conv1D)           (None, 126, 128)          3584      \n",
            "_________________________________________________________________\n",
            "flatten_40 (Flatten)         (None, 16128)             0         \n",
            "_________________________________________________________________\n",
            "dropout_47 (Dropout)         (None, 16128)             0         \n",
            "_________________________________________________________________\n",
            "dense_67 (Dense)             (None, 128)               2064512   \n",
            "_________________________________________________________________\n",
            "dropout_48 (Dropout)         (None, 128)               0         \n",
            "_________________________________________________________________\n",
            "dense_68 (Dense)             (None, 6)                 774       \n",
            "=================================================================\n",
            "Total params: 2,068,870\n",
            "Trainable params: 2,068,870\n",
            "Non-trainable params: 0\n",
            "_________________________________________________________________\n"
          ]
        }
      ]
    },
    {
      "cell_type": "code",
      "metadata": {
        "colab": {
          "base_uri": "https://localhost:8080/"
        },
        "id": "UADP1jDN_h_i",
        "outputId": "5ed2908e-d8eb-41a4-8e8c-00e2d4ece450"
      },
      "source": [
        "ycnn_model_history = cnn_model.fit(X_train, Y_train, epochs=100, validation_split=0.1, shuffle=True)"
      ],
      "execution_count": null,
      "outputs": [
        {
          "output_type": "stream",
          "name": "stdout",
          "text": [
            "Epoch 1/100\n",
            "207/207 [==============================] - 2s 8ms/step - loss: 0.5355 - accuracy: 0.8003 - val_loss: 0.1602 - val_accuracy: 0.9307\n",
            "Epoch 2/100\n",
            "207/207 [==============================] - 2s 7ms/step - loss: 0.1864 - accuracy: 0.9318 - val_loss: 0.1759 - val_accuracy: 0.9253\n",
            "Epoch 3/100\n",
            "207/207 [==============================] - 2s 7ms/step - loss: 0.1377 - accuracy: 0.9460 - val_loss: 0.1569 - val_accuracy: 0.9266\n",
            "Epoch 4/100\n",
            "207/207 [==============================] - 2s 7ms/step - loss: 0.1167 - accuracy: 0.9547 - val_loss: 0.1985 - val_accuracy: 0.9226\n",
            "Epoch 5/100\n",
            "207/207 [==============================] - 1s 7ms/step - loss: 0.1061 - accuracy: 0.9545 - val_loss: 0.1540 - val_accuracy: 0.9348\n",
            "Epoch 6/100\n",
            "207/207 [==============================] - 1s 7ms/step - loss: 0.1011 - accuracy: 0.9590 - val_loss: 0.2347 - val_accuracy: 0.9226\n",
            "Epoch 7/100\n",
            "207/207 [==============================] - 1s 7ms/step - loss: 0.0903 - accuracy: 0.9627 - val_loss: 0.1919 - val_accuracy: 0.9321\n",
            "Epoch 8/100\n",
            "207/207 [==============================] - 1s 7ms/step - loss: 0.0876 - accuracy: 0.9607 - val_loss: 0.2569 - val_accuracy: 0.9008\n",
            "Epoch 9/100\n",
            "207/207 [==============================] - 2s 7ms/step - loss: 0.0827 - accuracy: 0.9649 - val_loss: 0.1780 - val_accuracy: 0.9334\n",
            "Epoch 10/100\n",
            "207/207 [==============================] - 2s 7ms/step - loss: 0.0798 - accuracy: 0.9654 - val_loss: 0.2629 - val_accuracy: 0.9253\n",
            "Epoch 11/100\n",
            "207/207 [==============================] - 1s 7ms/step - loss: 0.0747 - accuracy: 0.9652 - val_loss: 0.1826 - val_accuracy: 0.9280\n",
            "Epoch 12/100\n",
            "207/207 [==============================] - 2s 7ms/step - loss: 0.0757 - accuracy: 0.9684 - val_loss: 0.1021 - val_accuracy: 0.9348\n",
            "Epoch 13/100\n",
            "207/207 [==============================] - 1s 7ms/step - loss: 0.0718 - accuracy: 0.9695 - val_loss: 0.2884 - val_accuracy: 0.8655\n",
            "Epoch 14/100\n",
            "207/207 [==============================] - 2s 7ms/step - loss: 0.0724 - accuracy: 0.9707 - val_loss: 0.1034 - val_accuracy: 0.9470\n",
            "Epoch 15/100\n",
            "207/207 [==============================] - 2s 7ms/step - loss: 0.0696 - accuracy: 0.9708 - val_loss: 0.2604 - val_accuracy: 0.8614\n",
            "Epoch 16/100\n",
            "207/207 [==============================] - 1s 7ms/step - loss: 0.0753 - accuracy: 0.9713 - val_loss: 0.2454 - val_accuracy: 0.9130\n",
            "Epoch 17/100\n",
            "207/207 [==============================] - 2s 7ms/step - loss: 0.0673 - accuracy: 0.9689 - val_loss: 0.3043 - val_accuracy: 0.9198\n",
            "Epoch 18/100\n",
            "207/207 [==============================] - 1s 7ms/step - loss: 0.0686 - accuracy: 0.9708 - val_loss: 0.2617 - val_accuracy: 0.9062\n",
            "Epoch 19/100\n",
            "207/207 [==============================] - 1s 7ms/step - loss: 0.0763 - accuracy: 0.9693 - val_loss: 0.3287 - val_accuracy: 0.9171\n",
            "Epoch 20/100\n",
            "207/207 [==============================] - 1s 7ms/step - loss: 0.0733 - accuracy: 0.9711 - val_loss: 0.1341 - val_accuracy: 0.9280\n",
            "Epoch 21/100\n",
            "207/207 [==============================] - 1s 7ms/step - loss: 0.0716 - accuracy: 0.9726 - val_loss: 0.1835 - val_accuracy: 0.9266\n",
            "Epoch 22/100\n",
            "207/207 [==============================] - 2s 7ms/step - loss: 0.0699 - accuracy: 0.9719 - val_loss: 0.1663 - val_accuracy: 0.9226\n",
            "Epoch 23/100\n",
            "207/207 [==============================] - 2s 7ms/step - loss: 0.0691 - accuracy: 0.9745 - val_loss: 0.1321 - val_accuracy: 0.9416\n",
            "Epoch 24/100\n",
            "207/207 [==============================] - 2s 7ms/step - loss: 0.0696 - accuracy: 0.9737 - val_loss: 0.1615 - val_accuracy: 0.9280\n",
            "Epoch 25/100\n",
            "207/207 [==============================] - 2s 7ms/step - loss: 0.0624 - accuracy: 0.9760 - val_loss: 0.2679 - val_accuracy: 0.9280\n",
            "Epoch 26/100\n",
            "207/207 [==============================] - 1s 7ms/step - loss: 0.0758 - accuracy: 0.9739 - val_loss: 0.2136 - val_accuracy: 0.8927\n",
            "Epoch 27/100\n",
            "207/207 [==============================] - 2s 7ms/step - loss: 0.0706 - accuracy: 0.9751 - val_loss: 0.1649 - val_accuracy: 0.9198\n",
            "Epoch 28/100\n",
            "207/207 [==============================] - 1s 7ms/step - loss: 0.0693 - accuracy: 0.9735 - val_loss: 0.0940 - val_accuracy: 0.9565\n",
            "Epoch 29/100\n",
            "207/207 [==============================] - 2s 7ms/step - loss: 0.0600 - accuracy: 0.9755 - val_loss: 0.1540 - val_accuracy: 0.9334\n",
            "Epoch 30/100\n",
            "207/207 [==============================] - 2s 7ms/step - loss: 0.0843 - accuracy: 0.9729 - val_loss: 0.2938 - val_accuracy: 0.8818\n",
            "Epoch 31/100\n",
            "207/207 [==============================] - 2s 7ms/step - loss: 0.0604 - accuracy: 0.9784 - val_loss: 0.2273 - val_accuracy: 0.9253\n",
            "Epoch 32/100\n",
            "207/207 [==============================] - 2s 7ms/step - loss: 0.0601 - accuracy: 0.9766 - val_loss: 0.1977 - val_accuracy: 0.8804\n",
            "Epoch 33/100\n",
            "207/207 [==============================] - 1s 7ms/step - loss: 0.0694 - accuracy: 0.9760 - val_loss: 0.2010 - val_accuracy: 0.9266\n",
            "Epoch 34/100\n",
            "207/207 [==============================] - 1s 7ms/step - loss: 0.0634 - accuracy: 0.9782 - val_loss: 0.0888 - val_accuracy: 0.9524\n",
            "Epoch 35/100\n",
            "207/207 [==============================] - 2s 7ms/step - loss: 0.0618 - accuracy: 0.9758 - val_loss: 0.1613 - val_accuracy: 0.9389\n",
            "Epoch 36/100\n",
            "207/207 [==============================] - 2s 7ms/step - loss: 0.0685 - accuracy: 0.9752 - val_loss: 0.3392 - val_accuracy: 0.9185\n",
            "Epoch 37/100\n",
            "207/207 [==============================] - 2s 7ms/step - loss: 0.0684 - accuracy: 0.9769 - val_loss: 0.1682 - val_accuracy: 0.9130\n",
            "Epoch 38/100\n",
            "207/207 [==============================] - 2s 7ms/step - loss: 0.0734 - accuracy: 0.9788 - val_loss: 0.0855 - val_accuracy: 0.9579\n",
            "Epoch 39/100\n",
            "207/207 [==============================] - 2s 7ms/step - loss: 0.0682 - accuracy: 0.9778 - val_loss: 0.2317 - val_accuracy: 0.8899\n",
            "Epoch 40/100\n",
            "207/207 [==============================] - 2s 7ms/step - loss: 0.0544 - accuracy: 0.9790 - val_loss: 0.3158 - val_accuracy: 0.8859\n",
            "Epoch 41/100\n",
            "207/207 [==============================] - 2s 7ms/step - loss: 0.0597 - accuracy: 0.9800 - val_loss: 0.1518 - val_accuracy: 0.9321\n",
            "Epoch 42/100\n",
            "207/207 [==============================] - 2s 7ms/step - loss: 0.0600 - accuracy: 0.9793 - val_loss: 0.1280 - val_accuracy: 0.9334\n",
            "Epoch 43/100\n",
            "207/207 [==============================] - 2s 7ms/step - loss: 0.0568 - accuracy: 0.9790 - val_loss: 0.2618 - val_accuracy: 0.9361\n",
            "Epoch 44/100\n",
            "207/207 [==============================] - 2s 7ms/step - loss: 0.0593 - accuracy: 0.9800 - val_loss: 0.1255 - val_accuracy: 0.9443\n",
            "Epoch 45/100\n",
            "207/207 [==============================] - 2s 7ms/step - loss: 0.0610 - accuracy: 0.9804 - val_loss: 0.1754 - val_accuracy: 0.9266\n",
            "Epoch 46/100\n",
            "207/207 [==============================] - 2s 7ms/step - loss: 0.0749 - accuracy: 0.9807 - val_loss: 0.2564 - val_accuracy: 0.9253\n",
            "Epoch 47/100\n",
            "207/207 [==============================] - 2s 7ms/step - loss: 0.0615 - accuracy: 0.9804 - val_loss: 0.1971 - val_accuracy: 0.9402\n",
            "Epoch 48/100\n",
            "207/207 [==============================] - 2s 8ms/step - loss: 0.0602 - accuracy: 0.9804 - val_loss: 0.1481 - val_accuracy: 0.9429\n",
            "Epoch 49/100\n",
            "207/207 [==============================] - 2s 7ms/step - loss: 0.0604 - accuracy: 0.9817 - val_loss: 0.1512 - val_accuracy: 0.9565\n",
            "Epoch 50/100\n",
            "207/207 [==============================] - 2s 8ms/step - loss: 0.0630 - accuracy: 0.9781 - val_loss: 0.1759 - val_accuracy: 0.9429\n",
            "Epoch 51/100\n",
            "207/207 [==============================] - 2s 7ms/step - loss: 0.0661 - accuracy: 0.9793 - val_loss: 0.2024 - val_accuracy: 0.9389\n",
            "Epoch 52/100\n",
            "207/207 [==============================] - 2s 7ms/step - loss: 0.0610 - accuracy: 0.9814 - val_loss: 0.1389 - val_accuracy: 0.9484\n",
            "Epoch 53/100\n",
            "207/207 [==============================] - 2s 7ms/step - loss: 0.0616 - accuracy: 0.9794 - val_loss: 0.3104 - val_accuracy: 0.9171\n",
            "Epoch 54/100\n",
            "207/207 [==============================] - 2s 7ms/step - loss: 0.0623 - accuracy: 0.9822 - val_loss: 0.2985 - val_accuracy: 0.9293\n",
            "Epoch 55/100\n",
            "207/207 [==============================] - 2s 7ms/step - loss: 0.0600 - accuracy: 0.9807 - val_loss: 0.0899 - val_accuracy: 0.9592\n",
            "Epoch 56/100\n",
            "207/207 [==============================] - 2s 7ms/step - loss: 0.0527 - accuracy: 0.9829 - val_loss: 0.3752 - val_accuracy: 0.9185\n",
            "Epoch 57/100\n",
            "207/207 [==============================] - 2s 7ms/step - loss: 0.0633 - accuracy: 0.9819 - val_loss: 0.1473 - val_accuracy: 0.9497\n",
            "Epoch 58/100\n",
            "207/207 [==============================] - 2s 8ms/step - loss: 0.0513 - accuracy: 0.9835 - val_loss: 0.1476 - val_accuracy: 0.9429\n",
            "Epoch 59/100\n",
            "207/207 [==============================] - 2s 7ms/step - loss: 0.0498 - accuracy: 0.9840 - val_loss: 0.0734 - val_accuracy: 0.9823\n",
            "Epoch 60/100\n",
            "207/207 [==============================] - 2s 7ms/step - loss: 0.0571 - accuracy: 0.9840 - val_loss: 0.2482 - val_accuracy: 0.9416\n",
            "Epoch 61/100\n",
            "207/207 [==============================] - 2s 7ms/step - loss: 0.0589 - accuracy: 0.9823 - val_loss: 0.0987 - val_accuracy: 0.9606\n",
            "Epoch 62/100\n",
            "207/207 [==============================] - 2s 7ms/step - loss: 0.0682 - accuracy: 0.9811 - val_loss: 0.0700 - val_accuracy: 0.9742\n",
            "Epoch 63/100\n",
            "207/207 [==============================] - 2s 7ms/step - loss: 0.0590 - accuracy: 0.9832 - val_loss: 0.1667 - val_accuracy: 0.9389\n",
            "Epoch 64/100\n",
            "207/207 [==============================] - 2s 7ms/step - loss: 0.0612 - accuracy: 0.9814 - val_loss: 0.3583 - val_accuracy: 0.9253\n",
            "Epoch 65/100\n",
            "207/207 [==============================] - 2s 7ms/step - loss: 0.0501 - accuracy: 0.9844 - val_loss: 0.1859 - val_accuracy: 0.9361\n",
            "Epoch 66/100\n",
            "207/207 [==============================] - 2s 8ms/step - loss: 0.0498 - accuracy: 0.9829 - val_loss: 0.5440 - val_accuracy: 0.9212\n",
            "Epoch 67/100\n",
            "207/207 [==============================] - 2s 7ms/step - loss: 0.0568 - accuracy: 0.9826 - val_loss: 0.2423 - val_accuracy: 0.9293\n",
            "Epoch 68/100\n",
            "207/207 [==============================] - 2s 7ms/step - loss: 0.0546 - accuracy: 0.9849 - val_loss: 0.2271 - val_accuracy: 0.9429\n",
            "Epoch 69/100\n",
            "207/207 [==============================] - 2s 7ms/step - loss: 0.0548 - accuracy: 0.9813 - val_loss: 0.1090 - val_accuracy: 0.9511\n",
            "Epoch 70/100\n",
            "207/207 [==============================] - 2s 7ms/step - loss: 0.0560 - accuracy: 0.9832 - val_loss: 0.3069 - val_accuracy: 0.8995\n",
            "Epoch 71/100\n",
            "207/207 [==============================] - 2s 7ms/step - loss: 0.0630 - accuracy: 0.9820 - val_loss: 0.1572 - val_accuracy: 0.9457\n",
            "Epoch 72/100\n",
            "207/207 [==============================] - 2s 8ms/step - loss: 0.0557 - accuracy: 0.9840 - val_loss: 0.4605 - val_accuracy: 0.9239\n",
            "Epoch 73/100\n",
            "207/207 [==============================] - 2s 8ms/step - loss: 0.0546 - accuracy: 0.9847 - val_loss: 0.3078 - val_accuracy: 0.9212\n",
            "Epoch 74/100\n",
            "207/207 [==============================] - 2s 7ms/step - loss: 0.0653 - accuracy: 0.9834 - val_loss: 0.2343 - val_accuracy: 0.9321\n",
            "Epoch 75/100\n",
            "207/207 [==============================] - 2s 8ms/step - loss: 0.0643 - accuracy: 0.9825 - val_loss: 0.3311 - val_accuracy: 0.9334\n",
            "Epoch 76/100\n",
            "207/207 [==============================] - 2s 8ms/step - loss: 0.0600 - accuracy: 0.9838 - val_loss: 0.2930 - val_accuracy: 0.9416\n",
            "Epoch 77/100\n",
            "207/207 [==============================] - 2s 8ms/step - loss: 0.0499 - accuracy: 0.9855 - val_loss: 0.3067 - val_accuracy: 0.9062\n",
            "Epoch 78/100\n",
            "207/207 [==============================] - 2s 8ms/step - loss: 0.0594 - accuracy: 0.9862 - val_loss: 0.2245 - val_accuracy: 0.9375\n",
            "Epoch 79/100\n",
            "207/207 [==============================] - 2s 8ms/step - loss: 0.0454 - accuracy: 0.9865 - val_loss: 0.1222 - val_accuracy: 0.9674\n",
            "Epoch 80/100\n",
            "207/207 [==============================] - 2s 8ms/step - loss: 0.0529 - accuracy: 0.9838 - val_loss: 0.1953 - val_accuracy: 0.9470\n",
            "Epoch 81/100\n",
            "207/207 [==============================] - 2s 8ms/step - loss: 0.0542 - accuracy: 0.9855 - val_loss: 0.1849 - val_accuracy: 0.9375\n",
            "Epoch 82/100\n",
            "207/207 [==============================] - 2s 8ms/step - loss: 0.0670 - accuracy: 0.9844 - val_loss: 0.1303 - val_accuracy: 0.9606\n",
            "Epoch 83/100\n",
            "207/207 [==============================] - 2s 8ms/step - loss: 0.0517 - accuracy: 0.9844 - val_loss: 0.6333 - val_accuracy: 0.8750\n",
            "Epoch 84/100\n",
            "207/207 [==============================] - 2s 8ms/step - loss: 0.0722 - accuracy: 0.9838 - val_loss: 0.2802 - val_accuracy: 0.9090\n",
            "Epoch 85/100\n",
            "207/207 [==============================] - 2s 8ms/step - loss: 0.0498 - accuracy: 0.9849 - val_loss: 0.1763 - val_accuracy: 0.9497\n",
            "Epoch 86/100\n",
            "207/207 [==============================] - 2s 8ms/step - loss: 0.0788 - accuracy: 0.9837 - val_loss: 0.1469 - val_accuracy: 0.9497\n",
            "Epoch 87/100\n",
            "207/207 [==============================] - 2s 8ms/step - loss: 0.0564 - accuracy: 0.9837 - val_loss: 0.1950 - val_accuracy: 0.9443\n",
            "Epoch 88/100\n",
            "207/207 [==============================] - 2s 8ms/step - loss: 0.0646 - accuracy: 0.9843 - val_loss: 0.1620 - val_accuracy: 0.9402\n",
            "Epoch 89/100\n",
            "207/207 [==============================] - 2s 7ms/step - loss: 0.0700 - accuracy: 0.9840 - val_loss: 0.0565 - val_accuracy: 0.9769\n",
            "Epoch 90/100\n",
            "207/207 [==============================] - 2s 8ms/step - loss: 0.0607 - accuracy: 0.9850 - val_loss: 0.0754 - val_accuracy: 0.9742\n",
            "Epoch 91/100\n",
            "207/207 [==============================] - 2s 8ms/step - loss: 0.0611 - accuracy: 0.9847 - val_loss: 0.3500 - val_accuracy: 0.9307\n",
            "Epoch 92/100\n",
            "207/207 [==============================] - 2s 8ms/step - loss: 0.0543 - accuracy: 0.9853 - val_loss: 0.2060 - val_accuracy: 0.9334\n",
            "Epoch 93/100\n",
            "207/207 [==============================] - 2s 8ms/step - loss: 0.0501 - accuracy: 0.9852 - val_loss: 0.2087 - val_accuracy: 0.9416\n",
            "Epoch 94/100\n",
            "207/207 [==============================] - 2s 8ms/step - loss: 0.0479 - accuracy: 0.9858 - val_loss: 0.1334 - val_accuracy: 0.9470\n",
            "Epoch 95/100\n",
            "207/207 [==============================] - 2s 8ms/step - loss: 0.0571 - accuracy: 0.9867 - val_loss: 0.2026 - val_accuracy: 0.9470\n",
            "Epoch 96/100\n",
            "207/207 [==============================] - 2s 7ms/step - loss: 0.0726 - accuracy: 0.9852 - val_loss: 0.1102 - val_accuracy: 0.9511\n",
            "Epoch 97/100\n",
            "207/207 [==============================] - 2s 8ms/step - loss: 0.0470 - accuracy: 0.9867 - val_loss: 0.3055 - val_accuracy: 0.9158\n",
            "Epoch 98/100\n",
            "207/207 [==============================] - 2s 8ms/step - loss: 0.0577 - accuracy: 0.9840 - val_loss: 0.0609 - val_accuracy: 0.9878\n",
            "Epoch 99/100\n",
            "207/207 [==============================] - 2s 8ms/step - loss: 0.0440 - accuracy: 0.9869 - val_loss: 0.1497 - val_accuracy: 0.9484\n",
            "Epoch 100/100\n",
            "207/207 [==============================] - 2s 8ms/step - loss: 0.1015 - accuracy: 0.9828 - val_loss: 0.1863 - val_accuracy: 0.9416\n"
          ]
        }
      ]
    },
    {
      "cell_type": "code",
      "metadata": {
        "colab": {
          "base_uri": "https://localhost:8080/",
          "height": 34
        },
        "id": "7Xo7paGLO_hq",
        "outputId": "5c654197-ac15-4299-82b7-d2c7f0c8575e"
      },
      "source": [
        "plt.savefig('1st.png')"
      ],
      "execution_count": null,
      "outputs": [
        {
          "output_type": "display_data",
          "data": {
            "text/plain": [
              "<Figure size 432x288 with 0 Axes>"
            ]
          },
          "metadata": {}
        }
      ]
    },
    {
      "cell_type": "code",
      "metadata": {
        "colab": {
          "base_uri": "https://localhost:8080/",
          "height": 294
        },
        "id": "W9X9sHntLpBk",
        "outputId": "c3094a0f-3cfa-459e-e0ff-95626c082623"
      },
      "source": [
        "import matplotlib.pyplot as plt\n",
        "loss_train = ycnn_model_history.history['loss']\n",
        "loss_val = ycnn_model_history.history['val_loss']\n",
        "epochs = range(0,100)\n",
        "plt.plot(epochs, loss_train, 'g', label='Training loss')\n",
        "plt.plot(epochs, loss_val, 'b', label='validation loss')\n",
        "plt.title('Training and Validation loss')\n",
        "plt.xlabel('Epochs')\n",
        "plt.ylabel('Loss')\n",
        "plt.legend()\n",
        "plt.savefig('1st.png')\n",
        "plt.show()"
      ],
      "execution_count": null,
      "outputs": [
        {
          "output_type": "display_data",
          "data": {
            "image/png": "[encoded data removed]",
            "text/plain": [
              "<Figure size 432x288 with 1 Axes>"
            ]
          },
          "metadata": {
            "needs_background": "light"
          }
        }
      ]
    },
    {
      "cell_type": "code",
      "metadata": {
        "colab": {
          "base_uri": "https://localhost:8080/",
          "height": 34
        },
        "id": "adhMTqs5PIyH",
        "outputId": "95df8558-9f7d-4a7d-d1b4-1b563f9debdf"
      },
      "source": [
        "plt.savefig('2nd.png')"
      ],
      "execution_count": null,
      "outputs": [
        {
          "output_type": "display_data",
          "data": {
            "text/plain": [
              "<Figure size 432x288 with 0 Axes>"
            ]
          },
          "metadata": {}
        }
      ]
    },
    {
      "cell_type": "code",
      "metadata": {
        "colab": {
          "base_uri": "https://localhost:8080/",
          "height": 638
        },
        "id": "CRLA2uz8OPWL",
        "outputId": "5c80e0fe-b5bd-4cb4-e3e7-9326febaabca"
      },
      "source": [
        "loss_train =ycnn_model_history.history['accuracy']\n",
        "loss_val = ycnn_model_history.history['val_accuracy']\n",
        "epochs = range(0,300)\n",
        "plt.plot(epochs, loss_train, 'g', label='Training accuracy')\n",
        "plt.plot(epochs, loss_val, 'b', label='validation accuracy')\n",
        "plt.title('Training and Validation accuracy')\n",
        "plt.xlabel('Epochs')\n",
        "plt.ylabel('Accuracy')\n",
        "plt.legend()\n",
        "plt.show()"
      ],
      "execution_count": null,
      "outputs": [
        {
          "output_type": "error",
          "ename": "ValueError",
          "evalue": "ignored",
          "traceback": [
            "\u001b[0;31m---------------------------------------------------------------------------\u001b[0m",
            "\u001b[0;31mValueError\u001b[0m                                Traceback (most recent call last)",
            "\u001b[0;32m<ipython-input-154-5aae0e4086f9>\u001b[0m in \u001b[0;36m<module>\u001b[0;34m()\u001b[0m\n\u001b[1;32m      2\u001b[0m \u001b[0mloss_val\u001b[0m \u001b[0;34m=\u001b[0m \u001b[0mycnn_model_history\u001b[0m\u001b[0;34m.\u001b[0m\u001b[0mhistory\u001b[0m\u001b[0;34m[\u001b[0m\u001b[0;34m'val_accuracy'\u001b[0m\u001b[0;34m]\u001b[0m\u001b[0;34m\u001b[0m\u001b[0;34m\u001b[0m\u001b[0m\n\u001b[1;32m      3\u001b[0m \u001b[0mepochs\u001b[0m \u001b[0;34m=\u001b[0m \u001b[0mrange\u001b[0m\u001b[0;34m(\u001b[0m\u001b[0;36m0\u001b[0m\u001b[0;34m,\u001b[0m\u001b[0;36m300\u001b[0m\u001b[0;34m)\u001b[0m\u001b[0;34m\u001b[0m\u001b[0;34m\u001b[0m\u001b[0m\n\u001b[0;32m----> 4\u001b[0;31m \u001b[0mplt\u001b[0m\u001b[0;34m.\u001b[0m\u001b[0mplot\u001b[0m\u001b[0;34m(\u001b[0m\u001b[0mepochs\u001b[0m\u001b[0;34m,\u001b[0m \u001b[0mloss_train\u001b[0m\u001b[0;34m,\u001b[0m \u001b[0;34m'g'\u001b[0m\u001b[0;34m,\u001b[0m \u001b[0mlabel\u001b[0m\u001b[0;34m=\u001b[0m\u001b[0;34m'Training accuracy'\u001b[0m\u001b[0;34m)\u001b[0m\u001b[0;34m\u001b[0m\u001b[0;34m\u001b[0m\u001b[0m\n\u001b[0m\u001b[1;32m      5\u001b[0m \u001b[0mplt\u001b[0m\u001b[0;34m.\u001b[0m\u001b[0mplot\u001b[0m\u001b[0;34m(\u001b[0m\u001b[0mepochs\u001b[0m\u001b[0;34m,\u001b[0m \u001b[0mloss_val\u001b[0m\u001b[0;34m,\u001b[0m \u001b[0;34m'b'\u001b[0m\u001b[0;34m,\u001b[0m \u001b[0mlabel\u001b[0m\u001b[0;34m=\u001b[0m\u001b[0;34m'validation accuracy'\u001b[0m\u001b[0;34m)\u001b[0m\u001b[0;34m\u001b[0m\u001b[0;34m\u001b[0m\u001b[0m\n\u001b[1;32m      6\u001b[0m \u001b[0mplt\u001b[0m\u001b[0;34m.\u001b[0m\u001b[0mtitle\u001b[0m\u001b[0;34m(\u001b[0m\u001b[0;34m'Training and Validation accuracy'\u001b[0m\u001b[0;34m)\u001b[0m\u001b[0;34m\u001b[0m\u001b[0;34m\u001b[0m\u001b[0m\n",
            "\u001b[0;32m/usr/local/lib/python3.7/dist-packages/matplotlib/pyplot.py\u001b[0m in \u001b[0;36mplot\u001b[0;34m(scalex, scaley, data, *args, **kwargs)\u001b[0m\n\u001b[1;32m   2761\u001b[0m     return gca().plot(\n\u001b[1;32m   2762\u001b[0m         *args, scalex=scalex, scaley=scaley, **({\"data\": data} if data\n\u001b[0;32m-> 2763\u001b[0;31m         is not None else {}), **kwargs)\n\u001b[0m\u001b[1;32m   2764\u001b[0m \u001b[0;34m\u001b[0m\u001b[0m\n\u001b[1;32m   2765\u001b[0m \u001b[0;34m\u001b[0m\u001b[0m\n",
            "\u001b[0;32m/usr/local/lib/python3.7/dist-packages/matplotlib/axes/_axes.py\u001b[0m in \u001b[0;36mplot\u001b[0;34m(self, scalex, scaley, data, *args, **kwargs)\u001b[0m\n\u001b[1;32m   1645\u001b[0m         \"\"\"\n\u001b[1;32m   1646\u001b[0m         \u001b[0mkwargs\u001b[0m \u001b[0;34m=\u001b[0m \u001b[0mcbook\u001b[0m\u001b[0;34m.\u001b[0m\u001b[0mnormalize_kwargs\u001b[0m\u001b[0;34m(\u001b[0m\u001b[0mkwargs\u001b[0m\u001b[0;34m,\u001b[0m \u001b[0mmlines\u001b[0m\u001b[0;34m.\u001b[0m\u001b[0mLine2D\u001b[0m\u001b[0;34m)\u001b[0m\u001b[0;34m\u001b[0m\u001b[0;34m\u001b[0m\u001b[0m\n\u001b[0;32m-> 1647\u001b[0;31m         \u001b[0mlines\u001b[0m \u001b[0;34m=\u001b[0m \u001b[0;34m[\u001b[0m\u001b[0;34m*\u001b[0m\u001b[0mself\u001b[0m\u001b[0;34m.\u001b[0m\u001b[0m_get_lines\u001b[0m\u001b[0;34m(\u001b[0m\u001b[0;34m*\u001b[0m\u001b[0margs\u001b[0m\u001b[0;34m,\u001b[0m \u001b[0mdata\u001b[0m\u001b[0;34m=\u001b[0m\u001b[0mdata\u001b[0m\u001b[0;34m,\u001b[0m \u001b[0;34m**\u001b[0m\u001b[0mkwargs\u001b[0m\u001b[0;34m)\u001b[0m\u001b[0;34m]\u001b[0m\u001b[0;34m\u001b[0m\u001b[0;34m\u001b[0m\u001b[0m\n\u001b[0m\u001b[1;32m   1648\u001b[0m         \u001b[0;32mfor\u001b[0m \u001b[0mline\u001b[0m \u001b[0;32min\u001b[0m \u001b[0mlines\u001b[0m\u001b[0;34m:\u001b[0m\u001b[0;34m\u001b[0m\u001b[0;34m\u001b[0m\u001b[0m\n\u001b[1;32m   1649\u001b[0m             \u001b[0mself\u001b[0m\u001b[0;34m.\u001b[0m\u001b[0madd_line\u001b[0m\u001b[0;34m(\u001b[0m\u001b[0mline\u001b[0m\u001b[0;34m)\u001b[0m\u001b[0;34m\u001b[0m\u001b[0;34m\u001b[0m\u001b[0m\n",
            "\u001b[0;32m/usr/local/lib/python3.7/dist-packages/matplotlib/axes/_base.py\u001b[0m in \u001b[0;36m__call__\u001b[0;34m(self, *args, **kwargs)\u001b[0m\n\u001b[1;32m    214\u001b[0m                 \u001b[0mthis\u001b[0m \u001b[0;34m+=\u001b[0m \u001b[0margs\u001b[0m\u001b[0;34m[\u001b[0m\u001b[0;36m0\u001b[0m\u001b[0;34m]\u001b[0m\u001b[0;34m,\u001b[0m\u001b[0;34m\u001b[0m\u001b[0;34m\u001b[0m\u001b[0m\n\u001b[1;32m    215\u001b[0m                 \u001b[0margs\u001b[0m \u001b[0;34m=\u001b[0m \u001b[0margs\u001b[0m\u001b[0;34m[\u001b[0m\u001b[0;36m1\u001b[0m\u001b[0;34m:\u001b[0m\u001b[0;34m]\u001b[0m\u001b[0;34m\u001b[0m\u001b[0;34m\u001b[0m\u001b[0m\n\u001b[0;32m--> 216\u001b[0;31m             \u001b[0;32myield\u001b[0m \u001b[0;32mfrom\u001b[0m \u001b[0mself\u001b[0m\u001b[0;34m.\u001b[0m\u001b[0m_plot_args\u001b[0m\u001b[0;34m(\u001b[0m\u001b[0mthis\u001b[0m\u001b[0;34m,\u001b[0m \u001b[0mkwargs\u001b[0m\u001b[0;34m)\u001b[0m\u001b[0;34m\u001b[0m\u001b[0;34m\u001b[0m\u001b[0m\n\u001b[0m\u001b[1;32m    217\u001b[0m \u001b[0;34m\u001b[0m\u001b[0m\n\u001b[1;32m    218\u001b[0m     \u001b[0;32mdef\u001b[0m \u001b[0mget_next_color\u001b[0m\u001b[0;34m(\u001b[0m\u001b[0mself\u001b[0m\u001b[0;34m)\u001b[0m\u001b[0;34m:\u001b[0m\u001b[0;34m\u001b[0m\u001b[0;34m\u001b[0m\u001b[0m\n",
            "\u001b[0;32m/usr/local/lib/python3.7/dist-packages/matplotlib/axes/_base.py\u001b[0m in \u001b[0;36m_plot_args\u001b[0;34m(self, tup, kwargs)\u001b[0m\n\u001b[1;32m    340\u001b[0m \u001b[0;34m\u001b[0m\u001b[0m\n\u001b[1;32m    341\u001b[0m         \u001b[0;32mif\u001b[0m \u001b[0mx\u001b[0m\u001b[0;34m.\u001b[0m\u001b[0mshape\u001b[0m\u001b[0;34m[\u001b[0m\u001b[0;36m0\u001b[0m\u001b[0;34m]\u001b[0m \u001b[0;34m!=\u001b[0m \u001b[0my\u001b[0m\u001b[0;34m.\u001b[0m\u001b[0mshape\u001b[0m\u001b[0;34m[\u001b[0m\u001b[0;36m0\u001b[0m\u001b[0;34m]\u001b[0m\u001b[0;34m:\u001b[0m\u001b[0;34m\u001b[0m\u001b[0;34m\u001b[0m\u001b[0m\n\u001b[0;32m--> 342\u001b[0;31m             raise ValueError(f\"x and y must have same first dimension, but \"\n\u001b[0m\u001b[1;32m    343\u001b[0m                              f\"have shapes {x.shape} and {y.shape}\")\n\u001b[1;32m    344\u001b[0m         \u001b[0;32mif\u001b[0m \u001b[0mx\u001b[0m\u001b[0;34m.\u001b[0m\u001b[0mndim\u001b[0m \u001b[0;34m>\u001b[0m \u001b[0;36m2\u001b[0m \u001b[0;32mor\u001b[0m \u001b[0my\u001b[0m\u001b[0;34m.\u001b[0m\u001b[0mndim\u001b[0m \u001b[0;34m>\u001b[0m \u001b[0;36m2\u001b[0m\u001b[0;34m:\u001b[0m\u001b[0;34m\u001b[0m\u001b[0;34m\u001b[0m\u001b[0m\n",
            "\u001b[0;31mValueError\u001b[0m: x and y must have same first dimension, but have shapes (300,) and (100,)"
          ]
        },
        {
          "output_type": "display_data",
          "data": {
            "image/png": "[encoded data removed]",
            "text/plain": [
              "<Figure size 432x288 with 1 Axes>"
            ]
          },
          "metadata": {
            "needs_background": "light"
          }
        }
      ]
    },
    {
      "cell_type": "code",
      "metadata": {
        "id": "LNbpFu44AJeV"
      },
      "source": [
        "#LSTM\n",
        "# Initiliazing the sequential model\n",
        "model1 = Sequential()\n",
        "# Configuring the parameters\n",
        "model1.add(LSTM(n_hidden, input_shape=(timesteps, input_dim)))\n",
        "# Adding a dropout layer\n",
        "model1.add(Dropout(0.5))\n",
        "# Adding a dense output layer with sigmoid activation\n",
        "model1.add(Dense(n_classes, activation='softmax'))\n",
        "model1.summary()"
      ],
      "execution_count": null,
      "outputs": []
    },
    {
      "cell_type": "code",
      "metadata": {
        "id": "byWtL6wnAXnN"
      },
      "source": [
        "# Compiling the model\n",
        "model1.compile(loss='categorical_crossentropy',\n",
        "              optimizer='rmsprop',\n",
        "              metrics=['accuracy'])"
      ],
      "execution_count": null,
      "outputs": []
    },
    {
      "cell_type": "code",
      "metadata": {
        "id": "H3E0cvZmAcWQ"
      },
      "source": [
        "# Training the model\n",
        "model1.fit(X_train,\n",
        "          Y_train,\n",
        "          batch_size=batch_size,\n",
        "          validation_data=(X_test, Y_test),\n",
        "          epochs=epochs)"
      ],
      "execution_count": null,
      "outputs": []
    }
  ]
}